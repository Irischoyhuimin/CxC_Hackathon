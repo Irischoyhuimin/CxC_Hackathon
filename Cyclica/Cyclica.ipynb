{
 "cells": [
  {
   "cell_type": "markdown",
   "id": "09cf0b25-cfda-4303-9c0f-57a5e5028a14",
   "metadata": {
    "id": "09cf0b25-cfda-4303-9c0f-57a5e5028a14"
   },
   "source": [
    "## Dataset Walkthrough\n",
    "\n",
    "The dataset is a standard dataframe importabale through pandas."
   ]
  },
  {
   "cell_type": "code",
   "execution_count": 855,
   "outputs": [],
   "source": [
    "import numpy as np\n",
    "import pandas as pd\n",
    "from functools import partial\n",
    "import math\n",
    "import csv\n",
    "\n",
    "import sklearn # sklearn\n",
    "from sklearn.metrics import precision_score, recall_score, f1_score, accuracy_score, roc_auc_score\n",
    "from sklearn.model_selection import train_test_split\n",
    "\n",
    "from imblearn.over_sampling import SMOTE # class imbalance\n",
    "\n",
    "from xgboost import XGBClassifier # xgboost\n",
    "\n",
    "import matplotlib.pyplot as plt # plotting\n",
    "import seaborn as sns"
   ],
   "metadata": {
    "collapsed": false
   }
  },
  {
   "cell_type": "code",
   "execution_count": 856,
   "id": "78641f6a-b67b-47cd-bf24-a8a27b402513",
   "metadata": {
    "execution": {
     "iopub.execute_input": "2023-02-05T15:44:18.871407Z",
     "iopub.status.busy": "2023-02-05T15:44:18.871108Z",
     "iopub.status.idle": "2023-02-05T15:44:20.669330Z",
     "shell.execute_reply": "2023-02-05T15:44:20.669046Z",
     "shell.execute_reply.started": "2023-02-05T15:44:18.871382Z"
    },
    "tags": [],
    "id": "78641f6a-b67b-47cd-bf24-a8a27b402513",
    "outputId": "80278244-b7c1-40b2-cdb8-7718f6579630"
   },
   "outputs": [
    {
     "data": {
      "text/plain": "    annotation_sequence  feat_A  feat_C  feat_D  feat_E  feat_F  feat_G  \\\n0                     M   False   False   False   False   False   False   \n1                     G   False   False   False   False   False    True   \n2                     Q   False   False   False   False   False   False   \n3                     E   False   False   False    True   False   False   \n4                     P   False   False   False   False   False   False   \n..                  ...     ...     ...     ...     ...     ...     ...   \n755                   S   False   False   False   False   False   False   \n756                   H   False   False   False   False   False   False   \n757                   G   False   False   False   False   False    True   \n758                   G   False   False   False   False   False    True   \n759                   F   False   False   False   False    True   False   \n\n     feat_H  feat_I  feat_K  ...  feat_DSSP_10  feat_DSSP_11  feat_DSSP_12  \\\n0     False   False   False  ...             0           0.0            47   \n1     False   False   False  ...             0           0.0             0   \n2     False   False   False  ...             1          -0.0            -1   \n3     False   False   False  ...           706          -0.1           705   \n4     False   False   False  ...             0           0.0           705   \n..      ...     ...     ...  ...           ...           ...           ...   \n755   False   False   False  ...            -3          -0.1             2   \n756    True   False   False  ...          -358          -0.1          -330   \n757   False   False   False  ...          -360          -0.2            -1   \n758   False   False   False  ...             0           0.0             0   \n759   False   False   False  ...             0           0.0             0   \n\n     feat_DSSP_13    coord_X    coord_Y    coord_Z        entry  entry_index  \\\n0            -0.0 -26.499001  -4.742000 -35.189999  GEMI5_HUMAN            0   \n1             0.0 -25.158001  -1.342000 -34.104000  GEMI5_HUMAN            1   \n2            -0.0 -21.926001  -1.641000 -32.175999  GEMI5_HUMAN            2   \n3            -0.0 -22.073999   0.654000 -29.171000  GEMI5_HUMAN            3   \n4            -0.2 -19.783001   2.670000 -26.858999  GEMI5_HUMAN            4   \n..            ...        ...        ...        ...          ...          ...   \n755          -0.4 -19.742001  20.796000 -12.319000   AOC3_HUMAN          755   \n756          -0.1 -16.299000  19.153999 -12.640000   AOC3_HUMAN          756   \n757          -0.1 -13.404000  19.502001 -10.121000   AOC3_HUMAN          757   \n758           0.0 -10.986000  20.320000 -13.016000   AOC3_HUMAN          758   \n759           0.0  -7.456000  19.052999 -13.909000   AOC3_HUMAN          759   \n\n     y_Ligand  \n0       False  \n1       False  \n2       False  \n3       False  \n4       False  \n..        ...  \n755     False  \n756     False  \n757     False  \n758     False  \n759     False  \n\n[497166 rows x 50 columns]",
      "text/html": "<div>\n<style scoped>\n    .dataframe tbody tr th:only-of-type {\n        vertical-align: middle;\n    }\n\n    .dataframe tbody tr th {\n        vertical-align: top;\n    }\n\n    .dataframe thead th {\n        text-align: right;\n    }\n</style>\n<table border=\"1\" class=\"dataframe\">\n  <thead>\n    <tr style=\"text-align: right;\">\n      <th></th>\n      <th>annotation_sequence</th>\n      <th>feat_A</th>\n      <th>feat_C</th>\n      <th>feat_D</th>\n      <th>feat_E</th>\n      <th>feat_F</th>\n      <th>feat_G</th>\n      <th>feat_H</th>\n      <th>feat_I</th>\n      <th>feat_K</th>\n      <th>...</th>\n      <th>feat_DSSP_10</th>\n      <th>feat_DSSP_11</th>\n      <th>feat_DSSP_12</th>\n      <th>feat_DSSP_13</th>\n      <th>coord_X</th>\n      <th>coord_Y</th>\n      <th>coord_Z</th>\n      <th>entry</th>\n      <th>entry_index</th>\n      <th>y_Ligand</th>\n    </tr>\n  </thead>\n  <tbody>\n    <tr>\n      <th>0</th>\n      <td>M</td>\n      <td>False</td>\n      <td>False</td>\n      <td>False</td>\n      <td>False</td>\n      <td>False</td>\n      <td>False</td>\n      <td>False</td>\n      <td>False</td>\n      <td>False</td>\n      <td>...</td>\n      <td>0</td>\n      <td>0.0</td>\n      <td>47</td>\n      <td>-0.0</td>\n      <td>-26.499001</td>\n      <td>-4.742000</td>\n      <td>-35.189999</td>\n      <td>GEMI5_HUMAN</td>\n      <td>0</td>\n      <td>False</td>\n    </tr>\n    <tr>\n      <th>1</th>\n      <td>G</td>\n      <td>False</td>\n      <td>False</td>\n      <td>False</td>\n      <td>False</td>\n      <td>False</td>\n      <td>True</td>\n      <td>False</td>\n      <td>False</td>\n      <td>False</td>\n      <td>...</td>\n      <td>0</td>\n      <td>0.0</td>\n      <td>0</td>\n      <td>0.0</td>\n      <td>-25.158001</td>\n      <td>-1.342000</td>\n      <td>-34.104000</td>\n      <td>GEMI5_HUMAN</td>\n      <td>1</td>\n      <td>False</td>\n    </tr>\n    <tr>\n      <th>2</th>\n      <td>Q</td>\n      <td>False</td>\n      <td>False</td>\n      <td>False</td>\n      <td>False</td>\n      <td>False</td>\n      <td>False</td>\n      <td>False</td>\n      <td>False</td>\n      <td>False</td>\n      <td>...</td>\n      <td>1</td>\n      <td>-0.0</td>\n      <td>-1</td>\n      <td>-0.0</td>\n      <td>-21.926001</td>\n      <td>-1.641000</td>\n      <td>-32.175999</td>\n      <td>GEMI5_HUMAN</td>\n      <td>2</td>\n      <td>False</td>\n    </tr>\n    <tr>\n      <th>3</th>\n      <td>E</td>\n      <td>False</td>\n      <td>False</td>\n      <td>False</td>\n      <td>True</td>\n      <td>False</td>\n      <td>False</td>\n      <td>False</td>\n      <td>False</td>\n      <td>False</td>\n      <td>...</td>\n      <td>706</td>\n      <td>-0.1</td>\n      <td>705</td>\n      <td>-0.0</td>\n      <td>-22.073999</td>\n      <td>0.654000</td>\n      <td>-29.171000</td>\n      <td>GEMI5_HUMAN</td>\n      <td>3</td>\n      <td>False</td>\n    </tr>\n    <tr>\n      <th>4</th>\n      <td>P</td>\n      <td>False</td>\n      <td>False</td>\n      <td>False</td>\n      <td>False</td>\n      <td>False</td>\n      <td>False</td>\n      <td>False</td>\n      <td>False</td>\n      <td>False</td>\n      <td>...</td>\n      <td>0</td>\n      <td>0.0</td>\n      <td>705</td>\n      <td>-0.2</td>\n      <td>-19.783001</td>\n      <td>2.670000</td>\n      <td>-26.858999</td>\n      <td>GEMI5_HUMAN</td>\n      <td>4</td>\n      <td>False</td>\n    </tr>\n    <tr>\n      <th>...</th>\n      <td>...</td>\n      <td>...</td>\n      <td>...</td>\n      <td>...</td>\n      <td>...</td>\n      <td>...</td>\n      <td>...</td>\n      <td>...</td>\n      <td>...</td>\n      <td>...</td>\n      <td>...</td>\n      <td>...</td>\n      <td>...</td>\n      <td>...</td>\n      <td>...</td>\n      <td>...</td>\n      <td>...</td>\n      <td>...</td>\n      <td>...</td>\n      <td>...</td>\n      <td>...</td>\n    </tr>\n    <tr>\n      <th>755</th>\n      <td>S</td>\n      <td>False</td>\n      <td>False</td>\n      <td>False</td>\n      <td>False</td>\n      <td>False</td>\n      <td>False</td>\n      <td>False</td>\n      <td>False</td>\n      <td>False</td>\n      <td>...</td>\n      <td>-3</td>\n      <td>-0.1</td>\n      <td>2</td>\n      <td>-0.4</td>\n      <td>-19.742001</td>\n      <td>20.796000</td>\n      <td>-12.319000</td>\n      <td>AOC3_HUMAN</td>\n      <td>755</td>\n      <td>False</td>\n    </tr>\n    <tr>\n      <th>756</th>\n      <td>H</td>\n      <td>False</td>\n      <td>False</td>\n      <td>False</td>\n      <td>False</td>\n      <td>False</td>\n      <td>False</td>\n      <td>True</td>\n      <td>False</td>\n      <td>False</td>\n      <td>...</td>\n      <td>-358</td>\n      <td>-0.1</td>\n      <td>-330</td>\n      <td>-0.1</td>\n      <td>-16.299000</td>\n      <td>19.153999</td>\n      <td>-12.640000</td>\n      <td>AOC3_HUMAN</td>\n      <td>756</td>\n      <td>False</td>\n    </tr>\n    <tr>\n      <th>757</th>\n      <td>G</td>\n      <td>False</td>\n      <td>False</td>\n      <td>False</td>\n      <td>False</td>\n      <td>False</td>\n      <td>True</td>\n      <td>False</td>\n      <td>False</td>\n      <td>False</td>\n      <td>...</td>\n      <td>-360</td>\n      <td>-0.2</td>\n      <td>-1</td>\n      <td>-0.1</td>\n      <td>-13.404000</td>\n      <td>19.502001</td>\n      <td>-10.121000</td>\n      <td>AOC3_HUMAN</td>\n      <td>757</td>\n      <td>False</td>\n    </tr>\n    <tr>\n      <th>758</th>\n      <td>G</td>\n      <td>False</td>\n      <td>False</td>\n      <td>False</td>\n      <td>False</td>\n      <td>False</td>\n      <td>True</td>\n      <td>False</td>\n      <td>False</td>\n      <td>False</td>\n      <td>...</td>\n      <td>0</td>\n      <td>0.0</td>\n      <td>0</td>\n      <td>0.0</td>\n      <td>-10.986000</td>\n      <td>20.320000</td>\n      <td>-13.016000</td>\n      <td>AOC3_HUMAN</td>\n      <td>758</td>\n      <td>False</td>\n    </tr>\n    <tr>\n      <th>759</th>\n      <td>F</td>\n      <td>False</td>\n      <td>False</td>\n      <td>False</td>\n      <td>False</td>\n      <td>True</td>\n      <td>False</td>\n      <td>False</td>\n      <td>False</td>\n      <td>False</td>\n      <td>...</td>\n      <td>0</td>\n      <td>0.0</td>\n      <td>0</td>\n      <td>0.0</td>\n      <td>-7.456000</td>\n      <td>19.052999</td>\n      <td>-13.909000</td>\n      <td>AOC3_HUMAN</td>\n      <td>759</td>\n      <td>False</td>\n    </tr>\n  </tbody>\n</table>\n<p>497166 rows × 50 columns</p>\n</div>"
     },
     "execution_count": 856,
     "metadata": {},
     "output_type": "execute_result"
    }
   ],
   "source": [
    "df_train = pd.read_csv(\"af2_dataset_training_labeled.csv.gz\", index_col=0)\n",
    "df_train"
   ]
  },
  {
   "cell_type": "code",
   "execution_count": 857,
   "outputs": [
    {
     "data": {
      "text/plain": "annotation_sequence     object\nfeat_A                    bool\nfeat_C                    bool\nfeat_D                    bool\nfeat_E                    bool\nfeat_F                    bool\nfeat_G                    bool\nfeat_H                    bool\nfeat_I                    bool\nfeat_K                    bool\nfeat_L                    bool\nfeat_M                    bool\nfeat_N                    bool\nfeat_P                    bool\nfeat_Q                    bool\nfeat_R                    bool\nfeat_S                    bool\nfeat_T                    bool\nfeat_V                    bool\nfeat_W                    bool\nfeat_Y                    bool\nannotation_atomrec      object\nfeat_PHI               float64\nfeat_PSI               float64\nfeat_TAU               float64\nfeat_THETA             float64\nfeat_BBSASA            float64\nfeat_SCSASA            float64\nfeat_pLDDT             float64\nfeat_DSSP_H               bool\nfeat_DSSP_B               bool\nfeat_DSSP_E               bool\nfeat_DSSP_G               bool\nfeat_DSSP_I               bool\nfeat_DSSP_T               bool\nfeat_DSSP_S               bool\nfeat_DSSP_6              int64\nfeat_DSSP_7            float64\nfeat_DSSP_8              int64\nfeat_DSSP_9            float64\nfeat_DSSP_10             int64\nfeat_DSSP_11           float64\nfeat_DSSP_12             int64\nfeat_DSSP_13           float64\ncoord_X                float64\ncoord_Y                float64\ncoord_Z                float64\nentry                   object\nentry_index              int64\ny_Ligand                  bool\ndtype: object"
     },
     "execution_count": 857,
     "metadata": {},
     "output_type": "execute_result"
    }
   ],
   "source": [
    "df_train.dtypes"
   ],
   "metadata": {
    "collapsed": false
   }
  },
  {
   "cell_type": "code",
   "execution_count": 858,
   "outputs": [
    {
     "data": {
      "text/plain": "     feat_A  feat_C  feat_D  feat_E  feat_F  feat_G  feat_H  feat_I  feat_K  \\\n0     False   False   False   False   False   False   False   False   False   \n1     False   False   False   False   False    True   False   False   False   \n2     False   False   False   False   False   False   False   False   False   \n3     False   False   False    True   False   False   False   False   False   \n4     False   False   False   False   False   False   False   False   False   \n..      ...     ...     ...     ...     ...     ...     ...     ...     ...   \n755   False   False   False   False   False   False   False   False   False   \n756   False   False   False   False   False   False    True   False   False   \n757   False   False   False   False   False    True   False   False   False   \n758   False   False   False   False   False    True   False   False   False   \n759   False   False   False   False    True   False   False   False   False   \n\n     feat_L  ...  atomrec_M  atomrec_N  atomrec_P  atomrec_Q  atomrec_R  \\\n0     False  ...          1          0          0          0          0   \n1     False  ...          0          0          0          0          0   \n2     False  ...          0          0          0          1          0   \n3     False  ...          0          0          0          0          0   \n4     False  ...          0          0          1          0          0   \n..      ...  ...        ...        ...        ...        ...        ...   \n755   False  ...          0          0          0          0          0   \n756   False  ...          0          0          0          0          0   \n757   False  ...          0          0          0          0          0   \n758   False  ...          0          0          0          0          0   \n759   False  ...          0          0          0          0          0   \n\n     atomrec_S  atomrec_T  atomrec_V  atomrec_W  atomrec_Y  \n0            0          0          0          0          0  \n1            0          0          0          0          0  \n2            0          0          0          0          0  \n3            0          0          0          0          0  \n4            0          0          0          0          0  \n..         ...        ...        ...        ...        ...  \n755          1          0          0          0          0  \n756          0          0          0          0          0  \n757          0          0          0          0          0  \n758          0          0          0          0          0  \n759          0          0          0          0          0  \n\n[497166 rows x 88 columns]",
      "text/html": "<div>\n<style scoped>\n    .dataframe tbody tr th:only-of-type {\n        vertical-align: middle;\n    }\n\n    .dataframe tbody tr th {\n        vertical-align: top;\n    }\n\n    .dataframe thead th {\n        text-align: right;\n    }\n</style>\n<table border=\"1\" class=\"dataframe\">\n  <thead>\n    <tr style=\"text-align: right;\">\n      <th></th>\n      <th>feat_A</th>\n      <th>feat_C</th>\n      <th>feat_D</th>\n      <th>feat_E</th>\n      <th>feat_F</th>\n      <th>feat_G</th>\n      <th>feat_H</th>\n      <th>feat_I</th>\n      <th>feat_K</th>\n      <th>feat_L</th>\n      <th>...</th>\n      <th>atomrec_M</th>\n      <th>atomrec_N</th>\n      <th>atomrec_P</th>\n      <th>atomrec_Q</th>\n      <th>atomrec_R</th>\n      <th>atomrec_S</th>\n      <th>atomrec_T</th>\n      <th>atomrec_V</th>\n      <th>atomrec_W</th>\n      <th>atomrec_Y</th>\n    </tr>\n  </thead>\n  <tbody>\n    <tr>\n      <th>0</th>\n      <td>False</td>\n      <td>False</td>\n      <td>False</td>\n      <td>False</td>\n      <td>False</td>\n      <td>False</td>\n      <td>False</td>\n      <td>False</td>\n      <td>False</td>\n      <td>False</td>\n      <td>...</td>\n      <td>1</td>\n      <td>0</td>\n      <td>0</td>\n      <td>0</td>\n      <td>0</td>\n      <td>0</td>\n      <td>0</td>\n      <td>0</td>\n      <td>0</td>\n      <td>0</td>\n    </tr>\n    <tr>\n      <th>1</th>\n      <td>False</td>\n      <td>False</td>\n      <td>False</td>\n      <td>False</td>\n      <td>False</td>\n      <td>True</td>\n      <td>False</td>\n      <td>False</td>\n      <td>False</td>\n      <td>False</td>\n      <td>...</td>\n      <td>0</td>\n      <td>0</td>\n      <td>0</td>\n      <td>0</td>\n      <td>0</td>\n      <td>0</td>\n      <td>0</td>\n      <td>0</td>\n      <td>0</td>\n      <td>0</td>\n    </tr>\n    <tr>\n      <th>2</th>\n      <td>False</td>\n      <td>False</td>\n      <td>False</td>\n      <td>False</td>\n      <td>False</td>\n      <td>False</td>\n      <td>False</td>\n      <td>False</td>\n      <td>False</td>\n      <td>False</td>\n      <td>...</td>\n      <td>0</td>\n      <td>0</td>\n      <td>0</td>\n      <td>1</td>\n      <td>0</td>\n      <td>0</td>\n      <td>0</td>\n      <td>0</td>\n      <td>0</td>\n      <td>0</td>\n    </tr>\n    <tr>\n      <th>3</th>\n      <td>False</td>\n      <td>False</td>\n      <td>False</td>\n      <td>True</td>\n      <td>False</td>\n      <td>False</td>\n      <td>False</td>\n      <td>False</td>\n      <td>False</td>\n      <td>False</td>\n      <td>...</td>\n      <td>0</td>\n      <td>0</td>\n      <td>0</td>\n      <td>0</td>\n      <td>0</td>\n      <td>0</td>\n      <td>0</td>\n      <td>0</td>\n      <td>0</td>\n      <td>0</td>\n    </tr>\n    <tr>\n      <th>4</th>\n      <td>False</td>\n      <td>False</td>\n      <td>False</td>\n      <td>False</td>\n      <td>False</td>\n      <td>False</td>\n      <td>False</td>\n      <td>False</td>\n      <td>False</td>\n      <td>False</td>\n      <td>...</td>\n      <td>0</td>\n      <td>0</td>\n      <td>1</td>\n      <td>0</td>\n      <td>0</td>\n      <td>0</td>\n      <td>0</td>\n      <td>0</td>\n      <td>0</td>\n      <td>0</td>\n    </tr>\n    <tr>\n      <th>...</th>\n      <td>...</td>\n      <td>...</td>\n      <td>...</td>\n      <td>...</td>\n      <td>...</td>\n      <td>...</td>\n      <td>...</td>\n      <td>...</td>\n      <td>...</td>\n      <td>...</td>\n      <td>...</td>\n      <td>...</td>\n      <td>...</td>\n      <td>...</td>\n      <td>...</td>\n      <td>...</td>\n      <td>...</td>\n      <td>...</td>\n      <td>...</td>\n      <td>...</td>\n      <td>...</td>\n    </tr>\n    <tr>\n      <th>755</th>\n      <td>False</td>\n      <td>False</td>\n      <td>False</td>\n      <td>False</td>\n      <td>False</td>\n      <td>False</td>\n      <td>False</td>\n      <td>False</td>\n      <td>False</td>\n      <td>False</td>\n      <td>...</td>\n      <td>0</td>\n      <td>0</td>\n      <td>0</td>\n      <td>0</td>\n      <td>0</td>\n      <td>1</td>\n      <td>0</td>\n      <td>0</td>\n      <td>0</td>\n      <td>0</td>\n    </tr>\n    <tr>\n      <th>756</th>\n      <td>False</td>\n      <td>False</td>\n      <td>False</td>\n      <td>False</td>\n      <td>False</td>\n      <td>False</td>\n      <td>True</td>\n      <td>False</td>\n      <td>False</td>\n      <td>False</td>\n      <td>...</td>\n      <td>0</td>\n      <td>0</td>\n      <td>0</td>\n      <td>0</td>\n      <td>0</td>\n      <td>0</td>\n      <td>0</td>\n      <td>0</td>\n      <td>0</td>\n      <td>0</td>\n    </tr>\n    <tr>\n      <th>757</th>\n      <td>False</td>\n      <td>False</td>\n      <td>False</td>\n      <td>False</td>\n      <td>False</td>\n      <td>True</td>\n      <td>False</td>\n      <td>False</td>\n      <td>False</td>\n      <td>False</td>\n      <td>...</td>\n      <td>0</td>\n      <td>0</td>\n      <td>0</td>\n      <td>0</td>\n      <td>0</td>\n      <td>0</td>\n      <td>0</td>\n      <td>0</td>\n      <td>0</td>\n      <td>0</td>\n    </tr>\n    <tr>\n      <th>758</th>\n      <td>False</td>\n      <td>False</td>\n      <td>False</td>\n      <td>False</td>\n      <td>False</td>\n      <td>True</td>\n      <td>False</td>\n      <td>False</td>\n      <td>False</td>\n      <td>False</td>\n      <td>...</td>\n      <td>0</td>\n      <td>0</td>\n      <td>0</td>\n      <td>0</td>\n      <td>0</td>\n      <td>0</td>\n      <td>0</td>\n      <td>0</td>\n      <td>0</td>\n      <td>0</td>\n    </tr>\n    <tr>\n      <th>759</th>\n      <td>False</td>\n      <td>False</td>\n      <td>False</td>\n      <td>False</td>\n      <td>True</td>\n      <td>False</td>\n      <td>False</td>\n      <td>False</td>\n      <td>False</td>\n      <td>False</td>\n      <td>...</td>\n      <td>0</td>\n      <td>0</td>\n      <td>0</td>\n      <td>0</td>\n      <td>0</td>\n      <td>0</td>\n      <td>0</td>\n      <td>0</td>\n      <td>0</td>\n      <td>0</td>\n    </tr>\n  </tbody>\n</table>\n<p>497166 rows × 88 columns</p>\n</div>"
     },
     "execution_count": 858,
     "metadata": {},
     "output_type": "execute_result"
    }
   ],
   "source": [
    "df_train = pd.get_dummies(df_train,columns=[\"annotation_sequence\"], prefix='Sequence')\n",
    "df_train = pd.get_dummies(df_train,columns=[\"annotation_atomrec\"], prefix='atomrec')\n",
    "df_train"
   ],
   "metadata": {
    "collapsed": false
   }
  },
  {
   "cell_type": "code",
   "execution_count": 859,
   "outputs": [
    {
     "data": {
      "text/plain": "False    479912\nTrue      17254\nName: y_Ligand, dtype: int64"
     },
     "execution_count": 859,
     "metadata": {},
     "output_type": "execute_result"
    }
   ],
   "source": [
    "df_train['y_Ligand'].value_counts()"
   ],
   "metadata": {
    "collapsed": false
   }
  },
  {
   "cell_type": "code",
   "execution_count": 860,
   "outputs": [],
   "source": [
    "df_train.drop(columns=['entry'],inplace=True)"
   ],
   "metadata": {
    "collapsed": false
   }
  },
  {
   "cell_type": "code",
   "execution_count": 861,
   "outputs": [
    {
     "data": {
      "text/plain": "feat_A       int64\nfeat_C       int64\nfeat_D       int64\nfeat_E       int64\nfeat_F       int64\n             ...  \natomrec_S    uint8\natomrec_T    uint8\natomrec_V    uint8\natomrec_W    uint8\natomrec_Y    uint8\nLength: 87, dtype: object"
     },
     "execution_count": 861,
     "metadata": {},
     "output_type": "execute_result"
    }
   ],
   "source": [
    "df_train = df_train * 1\n",
    "df_train.dtypes"
   ],
   "metadata": {
    "collapsed": false
   }
  },
  {
   "cell_type": "code",
   "execution_count": 862,
   "outputs": [],
   "source": [
    "# df_train.corr()"
   ],
   "metadata": {
    "collapsed": false
   }
  },
  {
   "cell_type": "code",
   "execution_count": 862,
   "outputs": [],
   "source": [],
   "metadata": {
    "collapsed": false
   }
  },
  {
   "cell_type": "markdown",
   "id": "09a1b37d-d4c7-4ba5-b096-6efbc0775c60",
   "metadata": {
    "id": "09a1b37d-d4c7-4ba5-b096-6efbc0775c60"
   },
   "source": [
    "All columns with the `feat_*` prefix are boolean, integer, or float features that describe the residue itself.  These can be used for training a model.  Domain knowledge of these values should not be necessary to participate in the challenge, but we've provided brief descriptions below for anyone who may be interested:\n",
    "\n",
    "* `feat_[letter]` are one-hot encoded boolean values for each of the 20 possible amino acids.\n",
    "* `feat_PHI`, `feat_PSI`, `feat_TAU`, `feat_THETA` describe various protein chain bonding angles, computed with [Biopython](https://biopython.org/docs/1.75/api/Bio.PDB.Polypeptide.html).\n",
    "* `feat_BBSASA`, `feat_SCSASA` describe the solvent accessible surface area, calculated using [FreeSASA](https://freesasa.github.io/).\n",
    "* `feat_pLDDT` is an AlphaFold2 residue-level prediction confidence value.\n",
    "* `feat_DSSP_[letter]` are secondary structure assignments by [DSSP].(https://en.wikipedia.org/wiki/DSSP_(algorithm))\n",
    "* `feat_DSSP_[number]` are other backbone structural features describing backbone hydrogen. bonding networks, also assigned by [DSSP](https://en.wikipedia.org/wiki/DSSP_(algorithm)).\n",
    "\n",
    "Column `y_Ligand` indicates if the residue (row) belongs to a known binding site or not.  This column is the classification objective for our challenge. \n",
    "\n",
    "The remaining columns describe other elements of the protein structure for reference or troubleshooting purposes.  Participants may use this information to to engineer new features/representations in their models if they so choose. These include:\n",
    "* `annotation_sequence` and `annotation_atomrec`: Residue amino acid in character format.\n",
    "* `entry`: Protein name, can be looked up on Uniprot for more information about the protein.  Each unique entry is one unique protein structure in this dataset.\n",
    "* `coord_X`, `coord_Y`, `coord_Z`: XYZ coordinates of the residue in the respective protein structure.  For example, all residues for protein 'QCR1_HUMAN' belong to the same coordinate space, but the coordinate space would shared between two residues (rows) with `entry` values of 'QCR1_HUMAN' and 'PPM1A_HUMAN'.\n",
    "* `entry_index`: The order of the amino acid within the protein sequence.  As with coordinates, these relationships are only meaningful for rows (residues) that share the same `entry` value.  For example, within QCR1_HUMAN two residues (rows) with `entry_index` 5 and 6 are adjacent (connected) neighbors.\n",
    "\n",
    "The test dataset has the same format, but is otherwise missing the `y_Ligand` column. "
   ]
  },
  {
   "cell_type": "markdown",
   "id": "b84b49b6",
   "metadata": {
    "id": "b84b49b6"
   },
   "source": [
    "### Let's try fitting a model to this dataset\n",
    "- We will use XGBoost to demonstrate, but there are many more models out there + other Neural Networks based approaches! Go Explore!\n",
    "- The train set is further split into train and test (usually we call this validation set) to evaluate before letting the model predict on the actual test set\n",
    "- For simplicity, we have also dropped all categorical columns (columns with string values, etc). These can be useful, so try to use it in your training!"
   ]
  },
  {
   "cell_type": "code",
   "execution_count": 863,
   "id": "92eca4c5",
   "metadata": {
    "id": "92eca4c5"
   },
   "outputs": [],
   "source": [
    "from sklearn.model_selection import train_test_split\n",
    "\n",
    "X_train, X_test, y_train, y_test = train_test_split(df_train.drop([\"y_Ligand\"], axis=1), df_train[\"y_Ligand\"], test_size=0.2, random_state=42)"
   ]
  },
  {
   "cell_type": "code",
   "execution_count": 864,
   "outputs": [],
   "source": [
    "\n",
    "X_train, y_train = SMOTE(sampling_strategy=1/3).fit_resample(X_train, y_train)"
   ],
   "metadata": {
    "collapsed": false
   }
  },
  {
   "cell_type": "code",
   "execution_count": 865,
   "id": "35c56708",
   "metadata": {
    "id": "35c56708",
    "outputId": "2af72a0f-7126-42d9-97d0-7d0c04b05591"
   },
   "outputs": [],
   "source": [
    "xgb = XGBClassifier(\n",
    "        learning_rate =0.01,\n",
    "        n_estimators=2000,\n",
    "        max_depth=11,\n",
    "        min_child_weight=2,\n",
    "        gamma=0.4,\n",
    "        subsample=0.9,\n",
    "        colsample_bytree=0.7,\n",
    "        reg_alpha = 2.5e-6,\n",
    "        objective= 'binary:logistic',\n",
    "        tree_method='gpu_hist',\n",
    "        scale_pos_weight=1,\n",
    "        seed=27)"
   ]
  },
  {
   "cell_type": "code",
   "execution_count": 866,
   "outputs": [
    {
     "data": {
      "text/plain": "GridSearchCV(cv=5,\n             estimator=XGBClassifier(base_score=None, booster=None,\n                                     callbacks=None, colsample_bylevel=None,\n                                     colsample_bynode=None,\n                                     colsample_bytree=0.7,\n                                     early_stopping_rounds=None,\n                                     enable_categorical=False, eval_metric=None,\n                                     feature_types=None, gamma=0.4, gpu_id=None,\n                                     grow_policy=None, importance_type=None,\n                                     interaction_constraints=None,\n                                     learning_rate=0.01, ma...\n                                     max_cat_threshold=None,\n                                     max_cat_to_onehot=None,\n                                     max_delta_step=None, max_depth=11,\n                                     max_leaves=None, min_child_weight=2,\n                                     missing=nan, monotone_constraints=None,\n                                     n_estimators=2000, n_jobs=None,\n                                     num_parallel_tree=None, predictor=None,\n                                     random_state=None, ...),\n             n_jobs=6,\n             param_grid={'learning_rate': [0.01, 0.05, 0.1, 0.15, 0.2],\n                         'n_estimators': [1500, 1750, 2000, 2250, 2500]},\n             scoring='roc_auc')",
      "text/html": "<style>#sk-container-id-60 {color: black;background-color: white;}#sk-container-id-60 pre{padding: 0;}#sk-container-id-60 div.sk-toggleable {background-color: white;}#sk-container-id-60 label.sk-toggleable__label {cursor: pointer;display: block;width: 100%;margin-bottom: 0;padding: 0.3em;box-sizing: border-box;text-align: center;}#sk-container-id-60 label.sk-toggleable__label-arrow:before {content: \"▸\";float: left;margin-right: 0.25em;color: #696969;}#sk-container-id-60 label.sk-toggleable__label-arrow:hover:before {color: black;}#sk-container-id-60 div.sk-estimator:hover label.sk-toggleable__label-arrow:before {color: black;}#sk-container-id-60 div.sk-toggleable__content {max-height: 0;max-width: 0;overflow: hidden;text-align: left;background-color: #f0f8ff;}#sk-container-id-60 div.sk-toggleable__content pre {margin: 0.2em;color: black;border-radius: 0.25em;background-color: #f0f8ff;}#sk-container-id-60 input.sk-toggleable__control:checked~div.sk-toggleable__content {max-height: 200px;max-width: 100%;overflow: auto;}#sk-container-id-60 input.sk-toggleable__control:checked~label.sk-toggleable__label-arrow:before {content: \"▾\";}#sk-container-id-60 div.sk-estimator input.sk-toggleable__control:checked~label.sk-toggleable__label {background-color: #d4ebff;}#sk-container-id-60 div.sk-label input.sk-toggleable__control:checked~label.sk-toggleable__label {background-color: #d4ebff;}#sk-container-id-60 input.sk-hidden--visually {border: 0;clip: rect(1px 1px 1px 1px);clip: rect(1px, 1px, 1px, 1px);height: 1px;margin: -1px;overflow: hidden;padding: 0;position: absolute;width: 1px;}#sk-container-id-60 div.sk-estimator {font-family: monospace;background-color: #f0f8ff;border: 1px dotted black;border-radius: 0.25em;box-sizing: border-box;margin-bottom: 0.5em;}#sk-container-id-60 div.sk-estimator:hover {background-color: #d4ebff;}#sk-container-id-60 div.sk-parallel-item::after {content: \"\";width: 100%;border-bottom: 1px solid gray;flex-grow: 1;}#sk-container-id-60 div.sk-label:hover label.sk-toggleable__label {background-color: #d4ebff;}#sk-container-id-60 div.sk-serial::before {content: \"\";position: absolute;border-left: 1px solid gray;box-sizing: border-box;top: 0;bottom: 0;left: 50%;z-index: 0;}#sk-container-id-60 div.sk-serial {display: flex;flex-direction: column;align-items: center;background-color: white;padding-right: 0.2em;padding-left: 0.2em;position: relative;}#sk-container-id-60 div.sk-item {position: relative;z-index: 1;}#sk-container-id-60 div.sk-parallel {display: flex;align-items: stretch;justify-content: center;background-color: white;position: relative;}#sk-container-id-60 div.sk-item::before, #sk-container-id-60 div.sk-parallel-item::before {content: \"\";position: absolute;border-left: 1px solid gray;box-sizing: border-box;top: 0;bottom: 0;left: 50%;z-index: -1;}#sk-container-id-60 div.sk-parallel-item {display: flex;flex-direction: column;z-index: 1;position: relative;background-color: white;}#sk-container-id-60 div.sk-parallel-item:first-child::after {align-self: flex-end;width: 50%;}#sk-container-id-60 div.sk-parallel-item:last-child::after {align-self: flex-start;width: 50%;}#sk-container-id-60 div.sk-parallel-item:only-child::after {width: 0;}#sk-container-id-60 div.sk-dashed-wrapped {border: 1px dashed gray;margin: 0 0.4em 0.5em 0.4em;box-sizing: border-box;padding-bottom: 0.4em;background-color: white;}#sk-container-id-60 div.sk-label label {font-family: monospace;font-weight: bold;display: inline-block;line-height: 1.2em;}#sk-container-id-60 div.sk-label-container {text-align: center;}#sk-container-id-60 div.sk-container {/* jupyter's `normalize.less` sets `[hidden] { display: none; }` but bootstrap.min.css set `[hidden] { display: none !important; }` so we also need the `!important` here to be able to override the default hidden behavior on the sphinx rendered scikit-learn.org. See: https://github.com/scikit-learn/scikit-learn/issues/21755 */display: inline-block !important;position: relative;}#sk-container-id-60 div.sk-text-repr-fallback {display: none;}</style><div id=\"sk-container-id-60\" class=\"sk-top-container\"><div class=\"sk-text-repr-fallback\"><pre>GridSearchCV(cv=5,\n             estimator=XGBClassifier(base_score=None, booster=None,\n                                     callbacks=None, colsample_bylevel=None,\n                                     colsample_bynode=None,\n                                     colsample_bytree=0.7,\n                                     early_stopping_rounds=None,\n                                     enable_categorical=False, eval_metric=None,\n                                     feature_types=None, gamma=0.4, gpu_id=None,\n                                     grow_policy=None, importance_type=None,\n                                     interaction_constraints=None,\n                                     learning_rate=0.01, ma...\n                                     max_cat_threshold=None,\n                                     max_cat_to_onehot=None,\n                                     max_delta_step=None, max_depth=11,\n                                     max_leaves=None, min_child_weight=2,\n                                     missing=nan, monotone_constraints=None,\n                                     n_estimators=2000, n_jobs=None,\n                                     num_parallel_tree=None, predictor=None,\n                                     random_state=None, ...),\n             n_jobs=6,\n             param_grid={&#x27;learning_rate&#x27;: [0.01, 0.05, 0.1, 0.15, 0.2],\n                         &#x27;n_estimators&#x27;: [1500, 1750, 2000, 2250, 2500]},\n             scoring=&#x27;roc_auc&#x27;)</pre><b>In a Jupyter environment, please rerun this cell to show the HTML representation or trust the notebook. <br />On GitHub, the HTML representation is unable to render, please try loading this page with nbviewer.org.</b></div><div class=\"sk-container\" hidden><div class=\"sk-item sk-dashed-wrapped\"><div class=\"sk-label-container\"><div class=\"sk-label sk-toggleable\"><input class=\"sk-toggleable__control sk-hidden--visually\" id=\"sk-estimator-id-90\" type=\"checkbox\" ><label for=\"sk-estimator-id-90\" class=\"sk-toggleable__label sk-toggleable__label-arrow\">GridSearchCV</label><div class=\"sk-toggleable__content\"><pre>GridSearchCV(cv=5,\n             estimator=XGBClassifier(base_score=None, booster=None,\n                                     callbacks=None, colsample_bylevel=None,\n                                     colsample_bynode=None,\n                                     colsample_bytree=0.7,\n                                     early_stopping_rounds=None,\n                                     enable_categorical=False, eval_metric=None,\n                                     feature_types=None, gamma=0.4, gpu_id=None,\n                                     grow_policy=None, importance_type=None,\n                                     interaction_constraints=None,\n                                     learning_rate=0.01, ma...\n                                     max_cat_threshold=None,\n                                     max_cat_to_onehot=None,\n                                     max_delta_step=None, max_depth=11,\n                                     max_leaves=None, min_child_weight=2,\n                                     missing=nan, monotone_constraints=None,\n                                     n_estimators=2000, n_jobs=None,\n                                     num_parallel_tree=None, predictor=None,\n                                     random_state=None, ...),\n             n_jobs=6,\n             param_grid={&#x27;learning_rate&#x27;: [0.01, 0.05, 0.1, 0.15, 0.2],\n                         &#x27;n_estimators&#x27;: [1500, 1750, 2000, 2250, 2500]},\n             scoring=&#x27;roc_auc&#x27;)</pre></div></div></div><div class=\"sk-parallel\"><div class=\"sk-parallel-item\"><div class=\"sk-item\"><div class=\"sk-label-container\"><div class=\"sk-label sk-toggleable\"><input class=\"sk-toggleable__control sk-hidden--visually\" id=\"sk-estimator-id-91\" type=\"checkbox\" ><label for=\"sk-estimator-id-91\" class=\"sk-toggleable__label sk-toggleable__label-arrow\">estimator: XGBClassifier</label><div class=\"sk-toggleable__content\"><pre>XGBClassifier(base_score=None, booster=None, callbacks=None,\n              colsample_bylevel=None, colsample_bynode=None,\n              colsample_bytree=0.7, early_stopping_rounds=None,\n              enable_categorical=False, eval_metric=None, feature_types=None,\n              gamma=0.4, gpu_id=None, grow_policy=None, importance_type=None,\n              interaction_constraints=None, learning_rate=0.01, max_bin=None,\n              max_cat_threshold=None, max_cat_to_onehot=None,\n              max_delta_step=None, max_depth=11, max_leaves=None,\n              min_child_weight=2, missing=nan, monotone_constraints=None,\n              n_estimators=2000, n_jobs=None, num_parallel_tree=None,\n              predictor=None, random_state=None, ...)</pre></div></div></div><div class=\"sk-serial\"><div class=\"sk-item\"><div class=\"sk-estimator sk-toggleable\"><input class=\"sk-toggleable__control sk-hidden--visually\" id=\"sk-estimator-id-92\" type=\"checkbox\" ><label for=\"sk-estimator-id-92\" class=\"sk-toggleable__label sk-toggleable__label-arrow\">XGBClassifier</label><div class=\"sk-toggleable__content\"><pre>XGBClassifier(base_score=None, booster=None, callbacks=None,\n              colsample_bylevel=None, colsample_bynode=None,\n              colsample_bytree=0.7, early_stopping_rounds=None,\n              enable_categorical=False, eval_metric=None, feature_types=None,\n              gamma=0.4, gpu_id=None, grow_policy=None, importance_type=None,\n              interaction_constraints=None, learning_rate=0.01, max_bin=None,\n              max_cat_threshold=None, max_cat_to_onehot=None,\n              max_delta_step=None, max_depth=11, max_leaves=None,\n              min_child_weight=2, missing=nan, monotone_constraints=None,\n              n_estimators=2000, n_jobs=None, num_parallel_tree=None,\n              predictor=None, random_state=None, ...)</pre></div></div></div></div></div></div></div></div></div></div>"
     },
     "execution_count": 866,
     "metadata": {},
     "output_type": "execute_result"
    }
   ],
   "source": [
    "from sklearn.model_selection import GridSearchCV\n",
    "\n",
    "param_test1 = {\n",
    "    \"learning_rate\": [0.01,0.05,0.10,0.15,0.20],\n",
    "    'n_estimators':[1500,1750, 2000, 2250,2500]\n",
    "}\n",
    "gsearch1 = GridSearchCV(estimator = xgb, param_grid = param_test1, scoring='roc_auc',n_jobs=6, cv=5)\n",
    "gsearch1.fit(X_test,y_test)"
   ],
   "metadata": {
    "collapsed": false
   }
  },
  {
   "cell_type": "code",
   "execution_count": 867,
   "outputs": [
    {
     "data": {
      "text/plain": "({'mean_fit_time': array([56.54248724, 63.60927844, 72.80425825, 80.50749812, 84.63293133,\n         28.80269904, 30.70588169, 32.02412033, 33.81794333, 34.95861592,\n         19.44948797, 21.71803904, 23.45708823, 25.13902388, 26.79344096,\n         16.79315472, 18.83838582, 20.59753809, 22.26407104, 23.84615874,\n         15.3343667 , 17.21929116, 18.94820476, 20.67220788, 17.08747754]),\n  'std_fit_time': array([0.05570435, 3.02833314, 0.93497571, 0.29766215, 3.06975301,\n         0.53622628, 0.32886744, 0.43318158, 0.34228766, 0.85329472,\n         0.3789967 , 0.10960002, 0.11749282, 0.05258473, 0.22974837,\n         0.36162793, 0.11834389, 0.20009897, 0.17408662, 0.09553881,\n         0.20060912, 0.11578413, 0.10571524, 0.08698036, 3.66726005]),\n  'mean_score_time': array([0.69140048, 0.7383523 , 0.72097087, 0.75029597, 0.82526755,\n         0.22952733, 0.22910709, 0.24047728, 0.23652964, 0.24784899,\n         0.14336014, 0.13815231, 0.14140882, 0.14429832, 0.144557  ,\n         0.10820923, 0.11088181, 0.11443987, 0.11353011, 0.11999283,\n         0.08821883, 0.09381685, 0.09955478, 0.09972334, 0.08125701]),\n  'std_score_time': array([0.03505854, 0.10764651, 0.05560598, 0.01140797, 0.02713289,\n         0.01714943, 0.02549283, 0.01698988, 0.01590557, 0.01872894,\n         0.00985179, 0.00846789, 0.00956727, 0.008757  , 0.00372348,\n         0.00880461, 0.00800523, 0.0078308 , 0.00761675, 0.00841837,\n         0.00632   , 0.00726654, 0.00614364, 0.00689076, 0.0074205 ]),\n  'param_learning_rate': masked_array(data=[0.01, 0.01, 0.01, 0.01, 0.01, 0.05, 0.05, 0.05, 0.05,\n                     0.05, 0.1, 0.1, 0.1, 0.1, 0.1, 0.15, 0.15, 0.15, 0.15,\n                     0.15, 0.2, 0.2, 0.2, 0.2, 0.2],\n               mask=[False, False, False, False, False, False, False, False,\n                     False, False, False, False, False, False, False, False,\n                     False, False, False, False, False, False, False, False,\n                     False],\n         fill_value='?',\n              dtype=object),\n  'param_n_estimators': masked_array(data=[1500, 1750, 2000, 2250, 2500, 1500, 1750, 2000, 2250,\n                     2500, 1500, 1750, 2000, 2250, 2500, 1500, 1750, 2000,\n                     2250, 2500, 1500, 1750, 2000, 2250, 2500],\n               mask=[False, False, False, False, False, False, False, False,\n                     False, False, False, False, False, False, False, False,\n                     False, False, False, False, False, False, False, False,\n                     False],\n         fill_value='?',\n              dtype=object),\n  'params': [{'learning_rate': 0.01, 'n_estimators': 1500},\n   {'learning_rate': 0.01, 'n_estimators': 1750},\n   {'learning_rate': 0.01, 'n_estimators': 2000},\n   {'learning_rate': 0.01, 'n_estimators': 2250},\n   {'learning_rate': 0.01, 'n_estimators': 2500},\n   {'learning_rate': 0.05, 'n_estimators': 1500},\n   {'learning_rate': 0.05, 'n_estimators': 1750},\n   {'learning_rate': 0.05, 'n_estimators': 2000},\n   {'learning_rate': 0.05, 'n_estimators': 2250},\n   {'learning_rate': 0.05, 'n_estimators': 2500},\n   {'learning_rate': 0.1, 'n_estimators': 1500},\n   {'learning_rate': 0.1, 'n_estimators': 1750},\n   {'learning_rate': 0.1, 'n_estimators': 2000},\n   {'learning_rate': 0.1, 'n_estimators': 2250},\n   {'learning_rate': 0.1, 'n_estimators': 2500},\n   {'learning_rate': 0.15, 'n_estimators': 1500},\n   {'learning_rate': 0.15, 'n_estimators': 1750},\n   {'learning_rate': 0.15, 'n_estimators': 2000},\n   {'learning_rate': 0.15, 'n_estimators': 2250},\n   {'learning_rate': 0.15, 'n_estimators': 2500},\n   {'learning_rate': 0.2, 'n_estimators': 1500},\n   {'learning_rate': 0.2, 'n_estimators': 1750},\n   {'learning_rate': 0.2, 'n_estimators': 2000},\n   {'learning_rate': 0.2, 'n_estimators': 2250},\n   {'learning_rate': 0.2, 'n_estimators': 2500}],\n  'split0_test_score': array([0.87091197, 0.87020512, 0.87007983, 0.86979997, 0.86969918,\n         0.86613679, 0.86638744, 0.86631644, 0.86658472, 0.86659377,\n         0.86180161, 0.86196573, 0.86189549, 0.86188284, 0.86182058,\n         0.86003489, 0.8599157 , 0.85995587, 0.8600087 , 0.86019234,\n         0.85492959, 0.85497436, 0.8553378 , 0.8555462 , 0.85518345]),\n  'split1_test_score': array([0.87668717, 0.87666996, 0.87648391, 0.87650151, 0.87648422,\n         0.87114184, 0.87122312, 0.87116481, 0.87131597, 0.87127081,\n         0.87162903, 0.87177958, 0.87192192, 0.87197935, 0.87208892,\n         0.86869123, 0.86865404, 0.8687595 , 0.86893447, 0.86898401,\n         0.86670886, 0.86641366, 0.8663843 , 0.86627833, 0.86638552]),\n  'split2_test_score': array([0.875034  , 0.87555673, 0.87501526, 0.87469725, 0.87477266,\n         0.87008849, 0.87022375, 0.87061517, 0.87055931, 0.87046182,\n         0.86836045, 0.86821343, 0.86779295, 0.86788001, 0.86737458,\n         0.86390136, 0.86387549, 0.86432606, 0.8642878 , 0.86418149,\n         0.86005846, 0.85985413, 0.85987092, 0.85961766, 0.85986371]),\n  'split3_test_score': array([0.86436417, 0.8646199 , 0.86479474, 0.86492972, 0.8650417 ,\n         0.85843688, 0.85819998, 0.8583437 , 0.85854231, 0.85855789,\n         0.85712807, 0.85695511, 0.85716107, 0.85730501, 0.85733832,\n         0.85803177, 0.8577747 , 0.85745891, 0.85776861, 0.85767252,\n         0.8447031 , 0.84515174, 0.84507644, 0.84499784, 0.84513512]),\n  'split4_test_score': array([0.86558625, 0.86507496, 0.86513845, 0.86515923, 0.8648031 ,\n         0.86281066, 0.86290536, 0.86283501, 0.86265083, 0.86251975,\n         0.85692505, 0.85712756, 0.85710436, 0.85696956, 0.85690132,\n         0.85916397, 0.85954621, 0.85947337, 0.85928325, 0.8592821 ,\n         0.85391333, 0.85399622, 0.85396363, 0.85401739, 0.85403418]),\n  'mean_test_score': array([0.87051672, 0.87042533, 0.87030244, 0.87021754, 0.87016017,\n         0.86572293, 0.86578793, 0.86585502, 0.86593063, 0.86588081,\n         0.86316884, 0.86320828, 0.86317516, 0.86320336, 0.86310474,\n         0.86196464, 0.86195323, 0.86199474, 0.86205657, 0.86206249,\n         0.85606267, 0.85607802, 0.85612662, 0.85609148, 0.8561204 ]),\n  'std_test_score': array([0.00491528, 0.0050538 , 0.00484711, 0.00475979, 0.00482448,\n         0.00469387, 0.00480548, 0.00482921, 0.00482076, 0.00480558,\n         0.00593081, 0.00593532, 0.00587352, 0.00590396, 0.00587078,\n         0.00389956, 0.00389875, 0.00405673, 0.00406339, 0.00407179,\n         0.00726981, 0.00701456, 0.00702349, 0.0069839 , 0.00700417]),\n  'rank_test_score': array([ 1,  2,  3,  4,  5, 10,  9,  8,  6,  7, 14, 11, 13, 12, 15, 19, 20,\n         18, 17, 16, 25, 24, 21, 23, 22], dtype=int32)},\n {'learning_rate': 0.01, 'n_estimators': 1500},\n 0.8705167151403478)"
     },
     "execution_count": 867,
     "metadata": {},
     "output_type": "execute_result"
    }
   ],
   "source": [
    "gsearch1.cv_results_, gsearch1.best_params_, gsearch1.best_score_"
   ],
   "metadata": {
    "collapsed": false
   }
  },
  {
   "cell_type": "code",
   "execution_count": 868,
   "outputs": [
    {
     "name": "stderr",
     "output_type": "stream",
     "text": [
      "/home/ai/mambaforge/envs/keras/lib/python3.10/site-packages/xgboost/sklearn.py:861: UserWarning: `eval_metric` in `fit` method is deprecated for better compatibility with scikit-learn, use `eval_metric` in constructor or`set_params` instead.\n",
      "  warnings.warn(\n"
     ]
    },
    {
     "data": {
      "text/plain": "XGBClassifier(base_score=0.5, booster='gbtree', callbacks=None,\n              colsample_bylevel=1, colsample_bynode=1, colsample_bytree=0.7,\n              early_stopping_rounds=None, enable_categorical=False,\n              eval_metric=None, feature_types=None, gamma=0.4, gpu_id=0,\n              grow_policy='depthwise', importance_type=None,\n              interaction_constraints='', learning_rate=0.01, max_bin=256,\n              max_cat_threshold=64, max_cat_to_onehot=4, max_delta_step=0,\n              max_depth=11, max_leaves=0, min_child_weight=2, missing=nan,\n              monotone_constraints='()', n_estimators=2000, n_jobs=0,\n              num_parallel_tree=1, predictor='auto', random_state=27, ...)",
      "text/html": "<style>#sk-container-id-61 {color: black;background-color: white;}#sk-container-id-61 pre{padding: 0;}#sk-container-id-61 div.sk-toggleable {background-color: white;}#sk-container-id-61 label.sk-toggleable__label {cursor: pointer;display: block;width: 100%;margin-bottom: 0;padding: 0.3em;box-sizing: border-box;text-align: center;}#sk-container-id-61 label.sk-toggleable__label-arrow:before {content: \"▸\";float: left;margin-right: 0.25em;color: #696969;}#sk-container-id-61 label.sk-toggleable__label-arrow:hover:before {color: black;}#sk-container-id-61 div.sk-estimator:hover label.sk-toggleable__label-arrow:before {color: black;}#sk-container-id-61 div.sk-toggleable__content {max-height: 0;max-width: 0;overflow: hidden;text-align: left;background-color: #f0f8ff;}#sk-container-id-61 div.sk-toggleable__content pre {margin: 0.2em;color: black;border-radius: 0.25em;background-color: #f0f8ff;}#sk-container-id-61 input.sk-toggleable__control:checked~div.sk-toggleable__content {max-height: 200px;max-width: 100%;overflow: auto;}#sk-container-id-61 input.sk-toggleable__control:checked~label.sk-toggleable__label-arrow:before {content: \"▾\";}#sk-container-id-61 div.sk-estimator input.sk-toggleable__control:checked~label.sk-toggleable__label {background-color: #d4ebff;}#sk-container-id-61 div.sk-label input.sk-toggleable__control:checked~label.sk-toggleable__label {background-color: #d4ebff;}#sk-container-id-61 input.sk-hidden--visually {border: 0;clip: rect(1px 1px 1px 1px);clip: rect(1px, 1px, 1px, 1px);height: 1px;margin: -1px;overflow: hidden;padding: 0;position: absolute;width: 1px;}#sk-container-id-61 div.sk-estimator {font-family: monospace;background-color: #f0f8ff;border: 1px dotted black;border-radius: 0.25em;box-sizing: border-box;margin-bottom: 0.5em;}#sk-container-id-61 div.sk-estimator:hover {background-color: #d4ebff;}#sk-container-id-61 div.sk-parallel-item::after {content: \"\";width: 100%;border-bottom: 1px solid gray;flex-grow: 1;}#sk-container-id-61 div.sk-label:hover label.sk-toggleable__label {background-color: #d4ebff;}#sk-container-id-61 div.sk-serial::before {content: \"\";position: absolute;border-left: 1px solid gray;box-sizing: border-box;top: 0;bottom: 0;left: 50%;z-index: 0;}#sk-container-id-61 div.sk-serial {display: flex;flex-direction: column;align-items: center;background-color: white;padding-right: 0.2em;padding-left: 0.2em;position: relative;}#sk-container-id-61 div.sk-item {position: relative;z-index: 1;}#sk-container-id-61 div.sk-parallel {display: flex;align-items: stretch;justify-content: center;background-color: white;position: relative;}#sk-container-id-61 div.sk-item::before, #sk-container-id-61 div.sk-parallel-item::before {content: \"\";position: absolute;border-left: 1px solid gray;box-sizing: border-box;top: 0;bottom: 0;left: 50%;z-index: -1;}#sk-container-id-61 div.sk-parallel-item {display: flex;flex-direction: column;z-index: 1;position: relative;background-color: white;}#sk-container-id-61 div.sk-parallel-item:first-child::after {align-self: flex-end;width: 50%;}#sk-container-id-61 div.sk-parallel-item:last-child::after {align-self: flex-start;width: 50%;}#sk-container-id-61 div.sk-parallel-item:only-child::after {width: 0;}#sk-container-id-61 div.sk-dashed-wrapped {border: 1px dashed gray;margin: 0 0.4em 0.5em 0.4em;box-sizing: border-box;padding-bottom: 0.4em;background-color: white;}#sk-container-id-61 div.sk-label label {font-family: monospace;font-weight: bold;display: inline-block;line-height: 1.2em;}#sk-container-id-61 div.sk-label-container {text-align: center;}#sk-container-id-61 div.sk-container {/* jupyter's `normalize.less` sets `[hidden] { display: none; }` but bootstrap.min.css set `[hidden] { display: none !important; }` so we also need the `!important` here to be able to override the default hidden behavior on the sphinx rendered scikit-learn.org. See: https://github.com/scikit-learn/scikit-learn/issues/21755 */display: inline-block !important;position: relative;}#sk-container-id-61 div.sk-text-repr-fallback {display: none;}</style><div id=\"sk-container-id-61\" class=\"sk-top-container\"><div class=\"sk-text-repr-fallback\"><pre>XGBClassifier(base_score=0.5, booster=&#x27;gbtree&#x27;, callbacks=None,\n              colsample_bylevel=1, colsample_bynode=1, colsample_bytree=0.7,\n              early_stopping_rounds=None, enable_categorical=False,\n              eval_metric=None, feature_types=None, gamma=0.4, gpu_id=0,\n              grow_policy=&#x27;depthwise&#x27;, importance_type=None,\n              interaction_constraints=&#x27;&#x27;, learning_rate=0.01, max_bin=256,\n              max_cat_threshold=64, max_cat_to_onehot=4, max_delta_step=0,\n              max_depth=11, max_leaves=0, min_child_weight=2, missing=nan,\n              monotone_constraints=&#x27;()&#x27;, n_estimators=2000, n_jobs=0,\n              num_parallel_tree=1, predictor=&#x27;auto&#x27;, random_state=27, ...)</pre><b>In a Jupyter environment, please rerun this cell to show the HTML representation or trust the notebook. <br />On GitHub, the HTML representation is unable to render, please try loading this page with nbviewer.org.</b></div><div class=\"sk-container\" hidden><div class=\"sk-item\"><div class=\"sk-estimator sk-toggleable\"><input class=\"sk-toggleable__control sk-hidden--visually\" id=\"sk-estimator-id-93\" type=\"checkbox\" checked><label for=\"sk-estimator-id-93\" class=\"sk-toggleable__label sk-toggleable__label-arrow\">XGBClassifier</label><div class=\"sk-toggleable__content\"><pre>XGBClassifier(base_score=0.5, booster=&#x27;gbtree&#x27;, callbacks=None,\n              colsample_bylevel=1, colsample_bynode=1, colsample_bytree=0.7,\n              early_stopping_rounds=None, enable_categorical=False,\n              eval_metric=None, feature_types=None, gamma=0.4, gpu_id=0,\n              grow_policy=&#x27;depthwise&#x27;, importance_type=None,\n              interaction_constraints=&#x27;&#x27;, learning_rate=0.01, max_bin=256,\n              max_cat_threshold=64, max_cat_to_onehot=4, max_delta_step=0,\n              max_depth=11, max_leaves=0, min_child_weight=2, missing=nan,\n              monotone_constraints=&#x27;()&#x27;, n_estimators=2000, n_jobs=0,\n              num_parallel_tree=1, predictor=&#x27;auto&#x27;, random_state=27, ...)</pre></div></div></div></div></div>"
     },
     "execution_count": 868,
     "metadata": {},
     "output_type": "execute_result"
    }
   ],
   "source": [
    "xgb.fit(X_train, y_train, eval_metric='auc')"
   ],
   "metadata": {
    "collapsed": false
   }
  },
  {
   "cell_type": "code",
   "execution_count": 869,
   "id": "8279ec2a",
   "metadata": {
    "id": "8279ec2a",
    "outputId": "781cf664-84af-4bb3-d21b-88b4593f306a"
   },
   "outputs": [
    {
     "name": "stdout",
     "output_type": "stream",
     "text": [
      "ROC-AUC: 0.6076330645375919 \n",
      " PR-AUC 0.5054638521561816\n"
     ]
    }
   ],
   "source": [
    "from sklearn import metrics\n",
    "y_test_res = xgb.predict_proba(X_test)[:, 1]\n",
    "y_test_pred = y_test_res > 0.5\n",
    "\n",
    "fpr, tpr, thresholds = metrics.roc_curve(y_test, y_test_pred, pos_label=1)\n",
    "auc_roc = metrics.auc(fpr, tpr)\n",
    "\n",
    "precision, recall, _ = metrics.precision_recall_curve(y_test, y_test_pred)\n",
    "auc_pr = metrics.auc(recall, precision)\n",
    "\n",
    "print(f\"ROC-AUC: {auc_roc} \\n PR-AUC {auc_pr}\")"
   ]
  },
  {
   "cell_type": "code",
   "execution_count": 870,
   "outputs": [
    {
     "name": "stdout",
     "output_type": "stream",
     "text": [
      "0\n",
      "ROC-AUC: 0.5 \n",
      " PR-AUC 0.5170766538608524 \n",
      " Mean: 0.5085383269304262\n",
      "1\n",
      "ROC-AUC: 0.7213483431457772 \n",
      " PR-AUC 0.517113238942525 \n",
      " Mean: 0.6192307910441511\n",
      "2\n",
      "ROC-AUC: 0.7682821386881827 \n",
      " PR-AUC 0.49578268964170735 \n",
      " Mean: 0.632032414164945\n",
      "3\n",
      "ROC-AUC: 0.7891924393100092 \n",
      " PR-AUC 0.4795077897807039 \n",
      " Mean: 0.6343501145453565\n",
      "4\n",
      "ROC-AUC: 0.7924915941081527 \n",
      " PR-AUC 0.46174960324911885 \n",
      " Mean: 0.6271205986786358\n",
      "5\n",
      "ROC-AUC: 0.7882010245944314 \n",
      " PR-AUC 0.4455317161474547 \n",
      " Mean: 0.616866370370943\n",
      "6\n",
      "ROC-AUC: 0.781178802383656 \n",
      " PR-AUC 0.4319152981944421 \n",
      " Mean: 0.6065470502890491\n",
      "7\n",
      "ROC-AUC: 0.7782657181414571 \n",
      " PR-AUC 0.4268956929807315 \n",
      " Mean: 0.6025807055610943\n",
      "8\n",
      "ROC-AUC: 0.7739667106642687 \n",
      " PR-AUC 0.42320019439326506 \n",
      " Mean: 0.5985834525287669\n",
      "9\n",
      "ROC-AUC: 0.7679302645735709 \n",
      " PR-AUC 0.41948205290125595 \n",
      " Mean: 0.5937061587374135\n",
      "10\n",
      "ROC-AUC: 0.7630564576286315 \n",
      " PR-AUC 0.41847197388719093 \n",
      " Mean: 0.5907642157579112\n",
      "11\n",
      "ROC-AUC: 0.7587461668282023 \n",
      " PR-AUC 0.41988718534098074 \n",
      " Mean: 0.5893166760845915\n",
      "12\n",
      "ROC-AUC: 0.7502989988675223 \n",
      " PR-AUC 0.41628126453389447 \n",
      " Mean: 0.5832901317007084\n",
      "13\n",
      "ROC-AUC: 0.7431292257425292 \n",
      " PR-AUC 0.41518679062661124 \n",
      " Mean: 0.5791580081845702\n",
      "14\n",
      "ROC-AUC: 0.7379261511890256 \n",
      " PR-AUC 0.41718951709587426 \n",
      " Mean: 0.5775578341424499\n",
      "15\n",
      "ROC-AUC: 0.7304096335689266 \n",
      " PR-AUC 0.4158448261950378 \n",
      " Mean: 0.5731272298819823\n",
      "16\n",
      "ROC-AUC: 0.7265820359780535 \n",
      " PR-AUC 0.4200354832033982 \n",
      " Mean: 0.5733087595907258\n",
      "17\n",
      "ROC-AUC: 0.7196758909551189 \n",
      " PR-AUC 0.4199594880429855 \n",
      " Mean: 0.5698176894990522\n",
      "18\n",
      "ROC-AUC: 0.7148428634121099 \n",
      " PR-AUC 0.4236003595358597 \n",
      " Mean: 0.5692216114739848\n",
      "19\n",
      "ROC-AUC: 0.7098328226035184 \n",
      " PR-AUC 0.4273638032202717 \n",
      " Mean: 0.568598312911895\n",
      "20\n",
      "ROC-AUC: 0.70626532094395 \n",
      " PR-AUC 0.43346744489883626 \n",
      " Mean: 0.5698663829213931\n",
      "21\n",
      "ROC-AUC: 0.7011332424093711 \n",
      " PR-AUC 0.4363431009355046 \n",
      " Mean: 0.5687381716724379\n",
      "22\n",
      "ROC-AUC: 0.6976273789691266 \n",
      " PR-AUC 0.44142801542268784 \n",
      " Mean: 0.5695276971959072\n",
      "23\n",
      "ROC-AUC: 0.6945632116419563 \n",
      " PR-AUC 0.44852670535380224 \n",
      " Mean: 0.5715449584978793\n",
      "24\n",
      "ROC-AUC: 0.6913949188644434 \n",
      " PR-AUC 0.45543705647423394 \n",
      " Mean: 0.5734159876693387\n",
      "25\n",
      "ROC-AUC: 0.6863192722766712 \n",
      " PR-AUC 0.4583263598395879 \n",
      " Mean: 0.5723228160581295\n",
      "26\n",
      "ROC-AUC: 0.6813596200914876 \n",
      " PR-AUC 0.4619695659382299 \n",
      " Mean: 0.5716645930148587\n",
      "27\n",
      "ROC-AUC: 0.6772535789045615 \n",
      " PR-AUC 0.464511991113436 \n",
      " Mean: 0.5708827850089988\n",
      "28\n",
      "ROC-AUC: 0.6724322026192469 \n",
      " PR-AUC 0.4671091144521299 \n",
      " Mean: 0.5697706585356883\n",
      "29\n",
      "ROC-AUC: 0.6675379385186925 \n",
      " PR-AUC 0.4687130255331621 \n",
      " Mean: 0.5681254820259273\n",
      "30\n",
      "ROC-AUC: 0.6636326485018408 \n",
      " PR-AUC 0.4716464017870226 \n",
      " Mean: 0.5676395251444317\n",
      "31\n",
      "ROC-AUC: 0.6598693842501636 \n",
      " PR-AUC 0.47542301376325125 \n",
      " Mean: 0.5676461990067074\n",
      "32\n",
      "ROC-AUC: 0.6567798049167375 \n",
      " PR-AUC 0.4792162584865777 \n",
      " Mean: 0.5679980317016575\n",
      "33\n",
      "ROC-AUC: 0.6530752660699602 \n",
      " PR-AUC 0.4817412704043449 \n",
      " Mean: 0.5674082682371526\n",
      "34\n",
      "ROC-AUC: 0.6482880402341721 \n",
      " PR-AUC 0.48113453419422103 \n",
      " Mean: 0.5647112872141966\n",
      "35\n",
      "ROC-AUC: 0.6449731347752978 \n",
      " PR-AUC 0.48351119821828004 \n",
      " Mean: 0.5642421664967889\n",
      "36\n",
      "ROC-AUC: 0.641800255081598 \n",
      " PR-AUC 0.4864371385662345 \n",
      " Mean: 0.5641186968239162\n",
      "37\n",
      "ROC-AUC: 0.6384072555349668 \n",
      " PR-AUC 0.48638274686360183 \n",
      " Mean: 0.5623950011992843\n",
      "38\n",
      "ROC-AUC: 0.6356188029566525 \n",
      " PR-AUC 0.4883444931596711 \n",
      " Mean: 0.5619816480581619\n",
      "39\n",
      "ROC-AUC: 0.6324890298503015 \n",
      " PR-AUC 0.487848175892896 \n",
      " Mean: 0.5601686028715988\n",
      "40\n",
      "ROC-AUC: 0.6292276435238103 \n",
      " PR-AUC 0.48805804665864533 \n",
      " Mean: 0.5586428450912279\n",
      "41\n",
      "ROC-AUC: 0.6262919589078048 \n",
      " PR-AUC 0.49073516586802385 \n",
      " Mean: 0.5585135623879143\n",
      "42\n",
      "ROC-AUC: 0.6236038819145278 \n",
      " PR-AUC 0.49176107207980113 \n",
      " Mean: 0.5576824769971644\n",
      "43\n",
      "ROC-AUC: 0.6201640259152424 \n",
      " PR-AUC 0.49079713962062504 \n",
      " Mean: 0.5554805827679338\n",
      "44\n",
      "ROC-AUC: 0.6182016965653883 \n",
      " PR-AUC 0.4930073563650247 \n",
      " Mean: 0.5556045264652065\n",
      "45\n",
      "ROC-AUC: 0.6172595789343396 \n",
      " PR-AUC 0.4966631499432893 \n",
      " Mean: 0.5569613644388145\n",
      "46\n",
      "ROC-AUC: 0.6154184502595912 \n",
      " PR-AUC 0.4979195652302789 \n",
      " Mean: 0.556669007744935\n",
      "47\n",
      "ROC-AUC: 0.6135617027672915 \n",
      " PR-AUC 0.498279827281515 \n",
      " Mean: 0.5559207650244032\n",
      "48\n",
      "ROC-AUC: 0.6124931781886199 \n",
      " PR-AUC 0.5037056715953576 \n",
      " Mean: 0.5580994248919888\n",
      "49\n",
      "ROC-AUC: 0.6094689869398231 \n",
      " PR-AUC 0.5030460015297971 \n",
      " Mean: 0.5562574942348101\n",
      "50\n",
      "ROC-AUC: 0.6076330645375919 \n",
      " PR-AUC 0.5054638521561816 \n",
      " Mean: 0.5565484583468867\n",
      "51\n",
      "ROC-AUC: 0.6060811936657091 \n",
      " PR-AUC 0.5078349001800332 \n",
      " Mean: 0.5569580469228712\n",
      "52\n",
      "ROC-AUC: 0.6045189102487921 \n",
      " PR-AUC 0.5095594941012171 \n",
      " Mean: 0.5570392021750046\n",
      "53\n",
      "ROC-AUC: 0.6032719159973264 \n",
      " PR-AUC 0.5137299404572251 \n",
      " Mean: 0.5585009282272757\n",
      "54\n",
      "ROC-AUC: 0.6015259566350982 \n",
      " PR-AUC 0.5124056962507603 \n",
      " Mean: 0.5569658264429292\n",
      "55\n",
      "ROC-AUC: 0.5993799513399327 \n",
      " PR-AUC 0.514034798339726 \n",
      " Mean: 0.5567073748398293\n",
      "56\n",
      "ROC-AUC: 0.596923863151833 \n",
      " PR-AUC 0.5139240711485795 \n",
      " Mean: 0.5554239671502063\n",
      "57\n",
      "ROC-AUC: 0.5960821211058216 \n",
      " PR-AUC 0.5163186171290922 \n",
      " Mean: 0.5562003691174568\n",
      "58\n",
      "ROC-AUC: 0.594062522758279 \n",
      " PR-AUC 0.5167672907791232 \n",
      " Mean: 0.5554149067687011\n",
      "59\n",
      "ROC-AUC: 0.5918852798280108 \n",
      " PR-AUC 0.5160279118766132 \n",
      " Mean: 0.553956595852312\n",
      "60\n",
      "ROC-AUC: 0.5901549392833337 \n",
      " PR-AUC 0.5166987706374115 \n",
      " Mean: 0.5534268549603727\n",
      "61\n",
      "ROC-AUC: 0.5884245987386568 \n",
      " PR-AUC 0.5174933793486765 \n",
      " Mean: 0.5529589890436666\n",
      "62\n",
      "ROC-AUC: 0.5868362839591542 \n",
      " PR-AUC 0.5180953679835412 \n",
      " Mean: 0.5524658259713477\n",
      "63\n",
      "ROC-AUC: 0.5846590410288859 \n",
      " PR-AUC 0.5177651258692677 \n",
      " Mean: 0.5512120834490768\n",
      "64\n",
      "ROC-AUC: 0.5820348957130265 \n",
      " PR-AUC 0.5161353715451311 \n",
      " Mean: 0.5490851336290787\n",
      "65\n",
      "ROC-AUC: 0.5808674519565296 \n",
      " PR-AUC 0.515290345530357 \n",
      " Mean: 0.5480788987434433\n",
      "66\n",
      "ROC-AUC: 0.578679796481227 \n",
      " PR-AUC 0.5138946780725313 \n",
      " Mean: 0.5462872372768792\n",
      "67\n",
      "ROC-AUC: 0.5772439200119329 \n",
      " PR-AUC 0.5159161615681522 \n",
      " Mean: 0.5465800407900425\n",
      "68\n",
      "ROC-AUC: 0.5752087028468388 \n",
      " PR-AUC 0.515665980975814 \n",
      " Mean: 0.5454373419113263\n",
      "69\n",
      "ROC-AUC: 0.5739044395976848 \n",
      " PR-AUC 0.5161314228196351 \n",
      " Mean: 0.5450179312086599\n",
      "70\n",
      "ROC-AUC: 0.5720164544702822 \n",
      " PR-AUC 0.5163601852766049 \n",
      " Mean: 0.5441883198734435\n",
      "71\n",
      "ROC-AUC: 0.5696867732298055 \n",
      " PR-AUC 0.5159249766130851 \n",
      " Mean: 0.5428058749214453\n",
      "72\n",
      "ROC-AUC: 0.5667733701110802 \n",
      " PR-AUC 0.5153815608368246 \n",
      " Mean: 0.5410774654739524\n",
      "73\n",
      "ROC-AUC: 0.5645805083632605 \n",
      " PR-AUC 0.513843549252409 \n",
      " Mean: 0.5392120288078348\n",
      "74\n",
      "ROC-AUC: 0.5631133942588636 \n",
      " PR-AUC 0.5119680050341042 \n",
      " Mean: 0.537540699646484\n",
      "75\n",
      "ROC-AUC: 0.5615094606618096 \n",
      " PR-AUC 0.5115847647291907 \n",
      " Mean: 0.5365471126955002\n",
      "76\n",
      "ROC-AUC: 0.5597739138446155 \n",
      " PR-AUC 0.5138053905336738 \n",
      " Mean: 0.5367896521891447\n",
      "77\n",
      "ROC-AUC: 0.557586258369313 \n",
      " PR-AUC 0.51354561910655 \n",
      " Mean: 0.5355659387379315\n",
      "78\n",
      "ROC-AUC: 0.5549517005084191 \n",
      " PR-AUC 0.5115794656747003 \n",
      " Mean: 0.5332655830915597\n",
      "79\n",
      "ROC-AUC: 0.5530689216535337 \n",
      " PR-AUC 0.5143671564724172 \n",
      " Mean: 0.5337180390629754\n",
      "80\n",
      "ROC-AUC: 0.5513281685638226 \n",
      " PR-AUC 0.516719370967054 \n",
      " Mean: 0.5340237697654383\n",
      "81\n",
      "ROC-AUC: 0.5491457193610372 \n",
      " PR-AUC 0.5186443913177926 \n",
      " Mean: 0.5338950553394148\n",
      "82\n",
      "ROC-AUC: 0.5462166974247605 \n",
      " PR-AUC 0.5170730926290953 \n",
      " Mean: 0.5316448950269279\n",
      "83\n",
      "ROC-AUC: 0.5435665207463153 \n",
      " PR-AUC 0.512055018550562 \n",
      " Mean: 0.5278107696484386\n",
      "84\n",
      "ROC-AUC: 0.5412212206882872 \n",
      " PR-AUC 0.5102616653375244 \n",
      " Mean: 0.5257414430129057\n",
      "85\n",
      "ROC-AUC: 0.5388967457203275 \n",
      " PR-AUC 0.5148300461047297 \n",
      " Mean: 0.5268633959125286\n",
      "86\n",
      "ROC-AUC: 0.5356628471636339 \n",
      " PR-AUC 0.5101226890127852 \n",
      " Mean: 0.5228927680882096\n",
      "87\n",
      "ROC-AUC: 0.5347950737550368 \n",
      " PR-AUC 0.5136695265154396 \n",
      " Mean: 0.5242323001352382\n",
      "88\n",
      "ROC-AUC: 0.53332795965064 \n",
      " PR-AUC 0.5126221718718722 \n",
      " Mean: 0.5229750657612561\n",
      "89\n",
      "ROC-AUC: 0.5315663814708602 \n",
      " PR-AUC 0.5110124917957208 \n",
      " Mean: 0.5212894366332905\n",
      "90\n",
      "ROC-AUC: 0.5296575712533891 \n",
      " PR-AUC 0.5091045286279604 \n",
      " Mean: 0.5193810499406748\n",
      "91\n",
      "ROC-AUC: 0.5271650391576695 \n",
      " PR-AUC 0.5082084361351697 \n",
      " Mean: 0.5176867376464196\n",
      "92\n",
      "ROC-AUC: 0.5251089969025069 \n",
      " PR-AUC 0.50606737850321 \n",
      " Mean: 0.5155881877028585\n",
      "93\n",
      "ROC-AUC: 0.5233474187227273 \n",
      " PR-AUC 0.5045993032422667 \n",
      " Mean: 0.513973360982497\n",
      "94\n",
      "ROC-AUC: 0.5204079842414164 \n",
      " PR-AUC 0.5001762843418128 \n",
      " Mean: 0.5102921342916147\n",
      "95\n",
      "ROC-AUC: 0.5180835092734567 \n",
      " PR-AUC 0.5150364437828533 \n",
      " Mean: 0.516559976528155\n",
      "96\n",
      "ROC-AUC: 0.5142710951110316 \n",
      " PR-AUC 0.5207693906902007 \n",
      " Mean: 0.5175202429006162\n",
      "97\n",
      "ROC-AUC: 0.5106007067137809 \n",
      " PR-AUC 0.52731531137617 \n",
      " Mean: 0.5189580090449755\n",
      "98\n",
      "ROC-AUC: 0.5057420494699647 \n",
      " PR-AUC 0.5226225933483162 \n",
      " Mean: 0.5141823214091404\n",
      "99\n",
      "ROC-AUC: 0.501472320376914 \n",
      " PR-AUC 0.5184986896268687 \n",
      " Mean: 0.5099855050018913\n"
     ]
    }
   ],
   "source": [
    "auc_rocs = []\n",
    "auc_prs = []\n",
    "means = []\n",
    "for i in range(100):\n",
    "    print(i)\n",
    "    y_test_pred = y_test_res > (i/100)\n",
    "\n",
    "    fpr, tpr, thresholds = metrics.roc_curve(y_test, y_test_pred, pos_label=1)\n",
    "    auc_roc = metrics.auc(fpr, tpr)\n",
    "\n",
    "    precision, recall, _ = metrics.precision_recall_curve(y_test, y_test_pred)\n",
    "    auc_pr = metrics.auc(recall, precision)\n",
    "\n",
    "    mean = (auc_pr + auc_roc) / 2\n",
    "\n",
    "    print(f\"ROC-AUC: {auc_roc} \\n PR-AUC {auc_pr} \\n Mean: {mean}\")\n",
    "    auc_rocs.append(auc_roc)\n",
    "    auc_prs.append(auc_pr)\n",
    "    means.append(mean)"
   ],
   "metadata": {
    "collapsed": false
   }
  },
  {
   "cell_type": "code",
   "execution_count": 871,
   "outputs": [
    {
     "data": {
      "text/plain": "<function matplotlib.pyplot.show(close=None, block=None)>"
     },
     "execution_count": 871,
     "metadata": {},
     "output_type": "execute_result"
    },
    {
     "data": {
      "text/plain": "<Figure size 640x480 with 1 Axes>",
      "image/png": "[encoded data removed]"
     },
     "metadata": {},
     "output_type": "display_data"
    }
   ],
   "source": [
    "import matplotlib.pyplot as plt\n",
    "plt.plot(list(range(100)),auc_rocs,'r')\n",
    "plt.plot(list(range(100)),auc_prs, 'g')\n",
    "plt.plot(list(range(100)),means, 'b')\n",
    "plt.show"
   ],
   "metadata": {
    "collapsed": false
   }
  },
  {
   "cell_type": "markdown",
   "id": "742476a7-4fd4-4ec1-a265-037d62f46ecd",
   "metadata": {
    "id": "742476a7-4fd4-4ec1-a265-037d62f46ecd"
   },
   "source": [
    "## Submission Instructions\n",
    "\n",
    "- Run inference on the test set and save the inference results as a csv file, the file should look like this\n",
    "```\n",
    "id,Predicted\n",
    "0,True\n",
    "1,False\n",
    "2,True\n",
    "3,False\n",
    "....\n",
    "```\n",
    "- Submit the csv on Kaggle\n",
    "- Automatic evaluation will be done with ROC-AUC\n",
    "- Top submissions will be further evaluated by the mean of ROC-AUC and PR-AUC"
   ],
   "outputs": [
    {
     "data": {
      "text/plain": "XGBClassifier(base_score=0.5, booster='gbtree', callbacks=None,\n              colsample_bylevel=1, colsample_bynode=1, colsample_bytree=0.8,\n              early_stopping_rounds=None, enable_categorical=False,\n              eval_metric=None, feature_types=None, gamma=0, gpu_id=0,\n              grow_policy='depthwise', importance_type=None,\n              interaction_constraints='', learning_rate=0.1, max_bin=256,\n              max_cat_threshold=64, max_cat_to_onehot=4, max_delta_step=0,\n              max_depth=9, max_leaves=0, min_child_weight=1, missing=nan,\n              monotone_constraints='()', n_estimators=1000, n_jobs=0,\n              num_parallel_tree=1, predictor='auto', random_state=27, ...)",
      "text/html": "<style>#sk-container-id-7 {color: black;background-color: white;}#sk-container-id-7 pre{padding: 0;}#sk-container-id-7 div.sk-toggleable {background-color: white;}#sk-container-id-7 label.sk-toggleable__label {cursor: pointer;display: block;width: 100%;margin-bottom: 0;padding: 0.3em;box-sizing: border-box;text-align: center;}#sk-container-id-7 label.sk-toggleable__label-arrow:before {content: \"▸\";float: left;margin-right: 0.25em;color: #696969;}#sk-container-id-7 label.sk-toggleable__label-arrow:hover:before {color: black;}#sk-container-id-7 div.sk-estimator:hover label.sk-toggleable__label-arrow:before {color: black;}#sk-container-id-7 div.sk-toggleable__content {max-height: 0;max-width: 0;overflow: hidden;text-align: left;background-color: #f0f8ff;}#sk-container-id-7 div.sk-toggleable__content pre {margin: 0.2em;color: black;border-radius: 0.25em;background-color: #f0f8ff;}#sk-container-id-7 input.sk-toggleable__control:checked~div.sk-toggleable__content {max-height: 200px;max-width: 100%;overflow: auto;}#sk-container-id-7 input.sk-toggleable__control:checked~label.sk-toggleable__label-arrow:before {content: \"▾\";}#sk-container-id-7 div.sk-estimator input.sk-toggleable__control:checked~label.sk-toggleable__label {background-color: #d4ebff;}#sk-container-id-7 div.sk-label input.sk-toggleable__control:checked~label.sk-toggleable__label {background-color: #d4ebff;}#sk-container-id-7 input.sk-hidden--visually {border: 0;clip: rect(1px 1px 1px 1px);clip: rect(1px, 1px, 1px, 1px);height: 1px;margin: -1px;overflow: hidden;padding: 0;position: absolute;width: 1px;}#sk-container-id-7 div.sk-estimator {font-family: monospace;background-color: #f0f8ff;border: 1px dotted black;border-radius: 0.25em;box-sizing: border-box;margin-bottom: 0.5em;}#sk-container-id-7 div.sk-estimator:hover {background-color: #d4ebff;}#sk-container-id-7 div.sk-parallel-item::after {content: \"\";width: 100%;border-bottom: 1px solid gray;flex-grow: 1;}#sk-container-id-7 div.sk-label:hover label.sk-toggleable__label {background-color: #d4ebff;}#sk-container-id-7 div.sk-serial::before {content: \"\";position: absolute;border-left: 1px solid gray;box-sizing: border-box;top: 0;bottom: 0;left: 50%;z-index: 0;}#sk-container-id-7 div.sk-serial {display: flex;flex-direction: column;align-items: center;background-color: white;padding-right: 0.2em;padding-left: 0.2em;position: relative;}#sk-container-id-7 div.sk-item {position: relative;z-index: 1;}#sk-container-id-7 div.sk-parallel {display: flex;align-items: stretch;justify-content: center;background-color: white;position: relative;}#sk-container-id-7 div.sk-item::before, #sk-container-id-7 div.sk-parallel-item::before {content: \"\";position: absolute;border-left: 1px solid gray;box-sizing: border-box;top: 0;bottom: 0;left: 50%;z-index: -1;}#sk-container-id-7 div.sk-parallel-item {display: flex;flex-direction: column;z-index: 1;position: relative;background-color: white;}#sk-container-id-7 div.sk-parallel-item:first-child::after {align-self: flex-end;width: 50%;}#sk-container-id-7 div.sk-parallel-item:last-child::after {align-self: flex-start;width: 50%;}#sk-container-id-7 div.sk-parallel-item:only-child::after {width: 0;}#sk-container-id-7 div.sk-dashed-wrapped {border: 1px dashed gray;margin: 0 0.4em 0.5em 0.4em;box-sizing: border-box;padding-bottom: 0.4em;background-color: white;}#sk-container-id-7 div.sk-label label {font-family: monospace;font-weight: bold;display: inline-block;line-height: 1.2em;}#sk-container-id-7 div.sk-label-container {text-align: center;}#sk-container-id-7 div.sk-container {/* jupyter's `normalize.less` sets `[hidden] { display: none; }` but bootstrap.min.css set `[hidden] { display: none !important; }` so we also need the `!important` here to be able to override the default hidden behavior on the sphinx rendered scikit-learn.org. See: https://github.com/scikit-learn/scikit-learn/issues/21755 */display: inline-block !important;position: relative;}#sk-container-id-7 div.sk-text-repr-fallback {display: none;}</style><div id=\"sk-container-id-7\" class=\"sk-top-container\"><div class=\"sk-text-repr-fallback\"><pre>XGBClassifier(base_score=0.5, booster=&#x27;gbtree&#x27;, callbacks=None,\n              colsample_bylevel=1, colsample_bynode=1, colsample_bytree=0.8,\n              early_stopping_rounds=None, enable_categorical=False,\n              eval_metric=None, feature_types=None, gamma=0, gpu_id=0,\n              grow_policy=&#x27;depthwise&#x27;, importance_type=None,\n              interaction_constraints=&#x27;&#x27;, learning_rate=0.1, max_bin=256,\n              max_cat_threshold=64, max_cat_to_onehot=4, max_delta_step=0,\n              max_depth=9, max_leaves=0, min_child_weight=1, missing=nan,\n              monotone_constraints=&#x27;()&#x27;, n_estimators=1000, n_jobs=0,\n              num_parallel_tree=1, predictor=&#x27;auto&#x27;, random_state=27, ...)</pre><b>In a Jupyter environment, please rerun this cell to show the HTML representation or trust the notebook. <br />On GitHub, the HTML representation is unable to render, please try loading this page with nbviewer.org.</b></div><div class=\"sk-container\" hidden><div class=\"sk-item\"><div class=\"sk-estimator sk-toggleable\"><input class=\"sk-toggleable__control sk-hidden--visually\" id=\"sk-estimator-id-9\" type=\"checkbox\" checked><label for=\"sk-estimator-id-9\" class=\"sk-toggleable__label sk-toggleable__label-arrow\">XGBClassifier</label><div class=\"sk-toggleable__content\"><pre>XGBClassifier(base_score=0.5, booster=&#x27;gbtree&#x27;, callbacks=None,\n              colsample_bylevel=1, colsample_bynode=1, colsample_bytree=0.8,\n              early_stopping_rounds=None, enable_categorical=False,\n              eval_metric=None, feature_types=None, gamma=0, gpu_id=0,\n              grow_policy=&#x27;depthwise&#x27;, importance_type=None,\n              interaction_constraints=&#x27;&#x27;, learning_rate=0.1, max_bin=256,\n              max_cat_threshold=64, max_cat_to_onehot=4, max_delta_step=0,\n              max_depth=9, max_leaves=0, min_child_weight=1, missing=nan,\n              monotone_constraints=&#x27;()&#x27;, n_estimators=1000, n_jobs=0,\n              num_parallel_tree=1, predictor=&#x27;auto&#x27;, random_state=27, ...)</pre></div></div></div></div></div>"
     },
     "execution_count": 56,
     "metadata": {},
     "output_type": "execute_result"
    }
   ],
   "execution_count": 56
  },
  {
   "cell_type": "code",
   "execution_count": 872,
   "id": "175839a9-0039-4ca8-bfb1-ecfc5aa16e47",
   "metadata": {
    "execution": {
     "iopub.execute_input": "2023-02-05T15:44:20.677130Z",
     "iopub.status.busy": "2023-02-05T15:44:20.677074Z",
     "iopub.status.idle": "2023-02-05T15:44:21.057212Z",
     "shell.execute_reply": "2023-02-05T15:44:21.056956Z",
     "shell.execute_reply.started": "2023-02-05T15:44:20.677123Z"
    },
    "tags": [],
    "id": "175839a9-0039-4ca8-bfb1-ecfc5aa16e47",
    "outputId": "897f9590-4234-40cf-8315-981b5ccc4bd5"
   },
   "outputs": [
    {
     "data": {
      "text/plain": "    annotation_sequence  feat_A  feat_C  feat_D  feat_E  feat_F  feat_G  \\\n0                     M   False   False   False   False   False   False   \n1                     A    True   False   False   False   False   False   \n2                     A    True   False   False   False   False   False   \n3                     S   False   False   False   False   False   False   \n4                     V   False   False   False   False   False   False   \n..                  ...     ...     ...     ...     ...     ...     ...   \n474                   L   False   False   False   False   False   False   \n475                   P   False   False   False   False   False   False   \n476                   Q   False   False   False   False   False   False   \n477                   E   False   False   False    True   False   False   \n478                   N   False   False   False   False   False   False   \n\n     feat_H  feat_I  feat_K  ...  feat_DSSP_9  feat_DSSP_10  feat_DSSP_11  \\\n0     False   False   False  ...          0.0             0           0.0   \n1     False   False   False  ...         -0.0             2          -0.0   \n2     False   False   False  ...         -0.1             0           0.0   \n3     False   False   False  ...         -0.1             0           0.0   \n4     False   False   False  ...          0.0             0           0.0   \n..      ...     ...     ...  ...          ...           ...           ...   \n474   False   False   False  ...         -0.5            -3          -0.3   \n475   False   False   False  ...         -0.1             0           0.0   \n476   False   False   False  ...         -0.0             0           0.0   \n477   False   False   False  ...          0.0             0           0.0   \n478   False   False   False  ...          0.0             0           0.0   \n\n     feat_DSSP_12  feat_DSSP_13    coord_X    coord_Y    coord_Z        entry  \\\n0               0           0.0  33.116001  37.023998  38.417000   QCR1_HUMAN   \n1               0           0.0  35.849998  34.841000  40.185001   QCR1_HUMAN   \n2               2          -0.0  37.087002  31.719999  40.547001   QCR1_HUMAN   \n3              -2          -0.0  38.095001  28.951000  42.321999   QCR1_HUMAN   \n4               0           0.0  41.435001  27.417000  43.703999   QCR1_HUMAN   \n..            ...           ...        ...        ...        ...          ...   \n474            -3          -0.0  47.813999   7.569000 -27.368999  PDE7A_HUMAN   \n475            -3          -0.0  50.228001   8.068000 -30.333000  PDE7A_HUMAN   \n476             0           0.0  51.507999   4.896000 -31.959999  PDE7A_HUMAN   \n477             0           0.0  54.845001   6.372000 -33.125000  PDE7A_HUMAN   \n478             0           0.0  57.796001   4.322000 -34.160000  PDE7A_HUMAN   \n\n     entry_index  \n0              0  \n1              1  \n2              2  \n3              3  \n4              4  \n..           ...  \n474          474  \n475          475  \n476          476  \n477          477  \n478          478  \n\n[107624 rows x 49 columns]",
      "text/html": "<div>\n<style scoped>\n    .dataframe tbody tr th:only-of-type {\n        vertical-align: middle;\n    }\n\n    .dataframe tbody tr th {\n        vertical-align: top;\n    }\n\n    .dataframe thead th {\n        text-align: right;\n    }\n</style>\n<table border=\"1\" class=\"dataframe\">\n  <thead>\n    <tr style=\"text-align: right;\">\n      <th></th>\n      <th>annotation_sequence</th>\n      <th>feat_A</th>\n      <th>feat_C</th>\n      <th>feat_D</th>\n      <th>feat_E</th>\n      <th>feat_F</th>\n      <th>feat_G</th>\n      <th>feat_H</th>\n      <th>feat_I</th>\n      <th>feat_K</th>\n      <th>...</th>\n      <th>feat_DSSP_9</th>\n      <th>feat_DSSP_10</th>\n      <th>feat_DSSP_11</th>\n      <th>feat_DSSP_12</th>\n      <th>feat_DSSP_13</th>\n      <th>coord_X</th>\n      <th>coord_Y</th>\n      <th>coord_Z</th>\n      <th>entry</th>\n      <th>entry_index</th>\n    </tr>\n  </thead>\n  <tbody>\n    <tr>\n      <th>0</th>\n      <td>M</td>\n      <td>False</td>\n      <td>False</td>\n      <td>False</td>\n      <td>False</td>\n      <td>False</td>\n      <td>False</td>\n      <td>False</td>\n      <td>False</td>\n      <td>False</td>\n      <td>...</td>\n      <td>0.0</td>\n      <td>0</td>\n      <td>0.0</td>\n      <td>0</td>\n      <td>0.0</td>\n      <td>33.116001</td>\n      <td>37.023998</td>\n      <td>38.417000</td>\n      <td>QCR1_HUMAN</td>\n      <td>0</td>\n    </tr>\n    <tr>\n      <th>1</th>\n      <td>A</td>\n      <td>True</td>\n      <td>False</td>\n      <td>False</td>\n      <td>False</td>\n      <td>False</td>\n      <td>False</td>\n      <td>False</td>\n      <td>False</td>\n      <td>False</td>\n      <td>...</td>\n      <td>-0.0</td>\n      <td>2</td>\n      <td>-0.0</td>\n      <td>0</td>\n      <td>0.0</td>\n      <td>35.849998</td>\n      <td>34.841000</td>\n      <td>40.185001</td>\n      <td>QCR1_HUMAN</td>\n      <td>1</td>\n    </tr>\n    <tr>\n      <th>2</th>\n      <td>A</td>\n      <td>True</td>\n      <td>False</td>\n      <td>False</td>\n      <td>False</td>\n      <td>False</td>\n      <td>False</td>\n      <td>False</td>\n      <td>False</td>\n      <td>False</td>\n      <td>...</td>\n      <td>-0.1</td>\n      <td>0</td>\n      <td>0.0</td>\n      <td>2</td>\n      <td>-0.0</td>\n      <td>37.087002</td>\n      <td>31.719999</td>\n      <td>40.547001</td>\n      <td>QCR1_HUMAN</td>\n      <td>2</td>\n    </tr>\n    <tr>\n      <th>3</th>\n      <td>S</td>\n      <td>False</td>\n      <td>False</td>\n      <td>False</td>\n      <td>False</td>\n      <td>False</td>\n      <td>False</td>\n      <td>False</td>\n      <td>False</td>\n      <td>False</td>\n      <td>...</td>\n      <td>-0.1</td>\n      <td>0</td>\n      <td>0.0</td>\n      <td>-2</td>\n      <td>-0.0</td>\n      <td>38.095001</td>\n      <td>28.951000</td>\n      <td>42.321999</td>\n      <td>QCR1_HUMAN</td>\n      <td>3</td>\n    </tr>\n    <tr>\n      <th>4</th>\n      <td>V</td>\n      <td>False</td>\n      <td>False</td>\n      <td>False</td>\n      <td>False</td>\n      <td>False</td>\n      <td>False</td>\n      <td>False</td>\n      <td>False</td>\n      <td>False</td>\n      <td>...</td>\n      <td>0.0</td>\n      <td>0</td>\n      <td>0.0</td>\n      <td>0</td>\n      <td>0.0</td>\n      <td>41.435001</td>\n      <td>27.417000</td>\n      <td>43.703999</td>\n      <td>QCR1_HUMAN</td>\n      <td>4</td>\n    </tr>\n    <tr>\n      <th>...</th>\n      <td>...</td>\n      <td>...</td>\n      <td>...</td>\n      <td>...</td>\n      <td>...</td>\n      <td>...</td>\n      <td>...</td>\n      <td>...</td>\n      <td>...</td>\n      <td>...</td>\n      <td>...</td>\n      <td>...</td>\n      <td>...</td>\n      <td>...</td>\n      <td>...</td>\n      <td>...</td>\n      <td>...</td>\n      <td>...</td>\n      <td>...</td>\n      <td>...</td>\n      <td>...</td>\n    </tr>\n    <tr>\n      <th>474</th>\n      <td>L</td>\n      <td>False</td>\n      <td>False</td>\n      <td>False</td>\n      <td>False</td>\n      <td>False</td>\n      <td>False</td>\n      <td>False</td>\n      <td>False</td>\n      <td>False</td>\n      <td>...</td>\n      <td>-0.5</td>\n      <td>-3</td>\n      <td>-0.3</td>\n      <td>-3</td>\n      <td>-0.0</td>\n      <td>47.813999</td>\n      <td>7.569000</td>\n      <td>-27.368999</td>\n      <td>PDE7A_HUMAN</td>\n      <td>474</td>\n    </tr>\n    <tr>\n      <th>475</th>\n      <td>P</td>\n      <td>False</td>\n      <td>False</td>\n      <td>False</td>\n      <td>False</td>\n      <td>False</td>\n      <td>False</td>\n      <td>False</td>\n      <td>False</td>\n      <td>False</td>\n      <td>...</td>\n      <td>-0.1</td>\n      <td>0</td>\n      <td>0.0</td>\n      <td>-3</td>\n      <td>-0.0</td>\n      <td>50.228001</td>\n      <td>8.068000</td>\n      <td>-30.333000</td>\n      <td>PDE7A_HUMAN</td>\n      <td>475</td>\n    </tr>\n    <tr>\n      <th>476</th>\n      <td>Q</td>\n      <td>False</td>\n      <td>False</td>\n      <td>False</td>\n      <td>False</td>\n      <td>False</td>\n      <td>False</td>\n      <td>False</td>\n      <td>False</td>\n      <td>False</td>\n      <td>...</td>\n      <td>-0.0</td>\n      <td>0</td>\n      <td>0.0</td>\n      <td>0</td>\n      <td>0.0</td>\n      <td>51.507999</td>\n      <td>4.896000</td>\n      <td>-31.959999</td>\n      <td>PDE7A_HUMAN</td>\n      <td>476</td>\n    </tr>\n    <tr>\n      <th>477</th>\n      <td>E</td>\n      <td>False</td>\n      <td>False</td>\n      <td>False</td>\n      <td>True</td>\n      <td>False</td>\n      <td>False</td>\n      <td>False</td>\n      <td>False</td>\n      <td>False</td>\n      <td>...</td>\n      <td>0.0</td>\n      <td>0</td>\n      <td>0.0</td>\n      <td>0</td>\n      <td>0.0</td>\n      <td>54.845001</td>\n      <td>6.372000</td>\n      <td>-33.125000</td>\n      <td>PDE7A_HUMAN</td>\n      <td>477</td>\n    </tr>\n    <tr>\n      <th>478</th>\n      <td>N</td>\n      <td>False</td>\n      <td>False</td>\n      <td>False</td>\n      <td>False</td>\n      <td>False</td>\n      <td>False</td>\n      <td>False</td>\n      <td>False</td>\n      <td>False</td>\n      <td>...</td>\n      <td>0.0</td>\n      <td>0</td>\n      <td>0.0</td>\n      <td>0</td>\n      <td>0.0</td>\n      <td>57.796001</td>\n      <td>4.322000</td>\n      <td>-34.160000</td>\n      <td>PDE7A_HUMAN</td>\n      <td>478</td>\n    </tr>\n  </tbody>\n</table>\n<p>107624 rows × 49 columns</p>\n</div>"
     },
     "execution_count": 872,
     "metadata": {},
     "output_type": "execute_result"
    }
   ],
   "source": [
    "df_test = pd.read_csv(\"af2_dataset_testset_unlabeled.csv.gz\", index_col=0)\n",
    "df_test"
   ]
  },
  {
   "cell_type": "code",
   "execution_count": 873,
   "id": "e40c7d36",
   "metadata": {
    "id": "e40c7d36"
   },
   "outputs": [
    {
     "ename": "NameError",
     "evalue": "name 'without_categorical_columns' is not defined",
     "output_type": "error",
     "traceback": [
      "\u001B[0;31m---------------------------------------------------------------------------\u001B[0m",
      "\u001B[0;31mNameError\u001B[0m                                 Traceback (most recent call last)",
      "Cell \u001B[0;32mIn[873], line 1\u001B[0m\n\u001B[0;32m----> 1\u001B[0m y_test_submission \u001B[38;5;241m=\u001B[39m xgb\u001B[38;5;241m.\u001B[39mpredict(df_test[\u001B[43mwithout_categorical_columns\u001B[49m])\n",
      "\u001B[0;31mNameError\u001B[0m: name 'without_categorical_columns' is not defined"
     ]
    }
   ],
   "source": [
    "y_test_submission = xgb.predict(df_test[without_categorical_columns])"
   ]
  },
  {
   "cell_type": "code",
   "execution_count": null,
   "id": "e01d0dda",
   "metadata": {
    "id": "e01d0dda"
   },
   "outputs": [],
   "source": [
    "s = pd.Series(y_test_submission).astype(bool)\n",
    "s.name = \"Predicted\"\n",
    "s.to_csv(\"submission.csv\")"
   ]
  }
 ],
 "metadata": {
  "kernelspec": {
   "display_name": "Python 3 (ipykernel)",
   "language": "python",
   "name": "python3"
  },
  "language_info": {
   "codemirror_mode": {
    "name": "ipython",
    "version": 3
   },
   "file_extension": ".py",
   "mimetype": "text/x-python",
   "name": "python",
   "nbconvert_exporter": "python",
   "pygments_lexer": "ipython3",
   "version": "3.10.6"
  },
  "colab": {
   "provenance": []
  }
 },
 "nbformat": 4,
 "nbformat_minor": 5
}
