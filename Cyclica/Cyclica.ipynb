{
 "cells": [
  {
   "cell_type": "markdown",
   "id": "09cf0b25-cfda-4303-9c0f-57a5e5028a14",
   "metadata": {
    "id": "09cf0b25-cfda-4303-9c0f-57a5e5028a14"
   },
   "source": [
    "## Dataset Preprocessing\n",
    "\n",
    "Apply one hot encoding with pandas"
   ]
  },
  {
   "cell_type": "code",
   "execution_count": 1,
   "id": "cef4cd7d",
   "metadata": {},
   "outputs": [],
   "source": [
    "import pandas as pd\n",
    "\n",
    "from imblearn.over_sampling import SMOTE # class imbalance\n",
    "\n",
    "from xgboost import XGBClassifier # xgboost"
   ]
  },
  {
   "cell_type": "code",
   "execution_count": 2,
   "id": "78641f6a-b67b-47cd-bf24-a8a27b402513",
   "metadata": {
    "execution": {
     "iopub.execute_input": "2023-02-05T15:44:18.871407Z",
     "iopub.status.busy": "2023-02-05T15:44:18.871108Z",
     "iopub.status.idle": "2023-02-05T15:44:20.669330Z",
     "shell.execute_reply": "2023-02-05T15:44:20.669046Z",
     "shell.execute_reply.started": "2023-02-05T15:44:18.871382Z"
    },
    "id": "78641f6a-b67b-47cd-bf24-a8a27b402513",
    "outputId": "80278244-b7c1-40b2-cdb8-7718f6579630",
    "tags": []
   },
   "outputs": [
    {
     "data": {
      "text/plain": "    annotation_sequence  feat_A  feat_C  feat_D  feat_E  feat_F  feat_G  \\\n0                     M   False   False   False   False   False   False   \n1                     G   False   False   False   False   False    True   \n2                     Q   False   False   False   False   False   False   \n3                     E   False   False   False    True   False   False   \n4                     P   False   False   False   False   False   False   \n..                  ...     ...     ...     ...     ...     ...     ...   \n755                   S   False   False   False   False   False   False   \n756                   H   False   False   False   False   False   False   \n757                   G   False   False   False   False   False    True   \n758                   G   False   False   False   False   False    True   \n759                   F   False   False   False   False    True   False   \n\n     feat_H  feat_I  feat_K  ...  feat_DSSP_10  feat_DSSP_11  feat_DSSP_12  \\\n0     False   False   False  ...             0           0.0            47   \n1     False   False   False  ...             0           0.0             0   \n2     False   False   False  ...             1          -0.0            -1   \n3     False   False   False  ...           706          -0.1           705   \n4     False   False   False  ...             0           0.0           705   \n..      ...     ...     ...  ...           ...           ...           ...   \n755   False   False   False  ...            -3          -0.1             2   \n756    True   False   False  ...          -358          -0.1          -330   \n757   False   False   False  ...          -360          -0.2            -1   \n758   False   False   False  ...             0           0.0             0   \n759   False   False   False  ...             0           0.0             0   \n\n     feat_DSSP_13    coord_X    coord_Y    coord_Z        entry  entry_index  \\\n0            -0.0 -26.499001  -4.742000 -35.189999  GEMI5_HUMAN            0   \n1             0.0 -25.158001  -1.342000 -34.104000  GEMI5_HUMAN            1   \n2            -0.0 -21.926001  -1.641000 -32.175999  GEMI5_HUMAN            2   \n3            -0.0 -22.073999   0.654000 -29.171000  GEMI5_HUMAN            3   \n4            -0.2 -19.783001   2.670000 -26.858999  GEMI5_HUMAN            4   \n..            ...        ...        ...        ...          ...          ...   \n755          -0.4 -19.742001  20.796000 -12.319000   AOC3_HUMAN          755   \n756          -0.1 -16.299000  19.153999 -12.640000   AOC3_HUMAN          756   \n757          -0.1 -13.404000  19.502001 -10.121000   AOC3_HUMAN          757   \n758           0.0 -10.986000  20.320000 -13.016000   AOC3_HUMAN          758   \n759           0.0  -7.456000  19.052999 -13.909000   AOC3_HUMAN          759   \n\n     y_Ligand  \n0       False  \n1       False  \n2       False  \n3       False  \n4       False  \n..        ...  \n755     False  \n756     False  \n757     False  \n758     False  \n759     False  \n\n[497166 rows x 50 columns]",
      "text/html": "<div>\n<style scoped>\n    .dataframe tbody tr th:only-of-type {\n        vertical-align: middle;\n    }\n\n    .dataframe tbody tr th {\n        vertical-align: top;\n    }\n\n    .dataframe thead th {\n        text-align: right;\n    }\n</style>\n<table border=\"1\" class=\"dataframe\">\n  <thead>\n    <tr style=\"text-align: right;\">\n      <th></th>\n      <th>annotation_sequence</th>\n      <th>feat_A</th>\n      <th>feat_C</th>\n      <th>feat_D</th>\n      <th>feat_E</th>\n      <th>feat_F</th>\n      <th>feat_G</th>\n      <th>feat_H</th>\n      <th>feat_I</th>\n      <th>feat_K</th>\n      <th>...</th>\n      <th>feat_DSSP_10</th>\n      <th>feat_DSSP_11</th>\n      <th>feat_DSSP_12</th>\n      <th>feat_DSSP_13</th>\n      <th>coord_X</th>\n      <th>coord_Y</th>\n      <th>coord_Z</th>\n      <th>entry</th>\n      <th>entry_index</th>\n      <th>y_Ligand</th>\n    </tr>\n  </thead>\n  <tbody>\n    <tr>\n      <th>0</th>\n      <td>M</td>\n      <td>False</td>\n      <td>False</td>\n      <td>False</td>\n      <td>False</td>\n      <td>False</td>\n      <td>False</td>\n      <td>False</td>\n      <td>False</td>\n      <td>False</td>\n      <td>...</td>\n      <td>0</td>\n      <td>0.0</td>\n      <td>47</td>\n      <td>-0.0</td>\n      <td>-26.499001</td>\n      <td>-4.742000</td>\n      <td>-35.189999</td>\n      <td>GEMI5_HUMAN</td>\n      <td>0</td>\n      <td>False</td>\n    </tr>\n    <tr>\n      <th>1</th>\n      <td>G</td>\n      <td>False</td>\n      <td>False</td>\n      <td>False</td>\n      <td>False</td>\n      <td>False</td>\n      <td>True</td>\n      <td>False</td>\n      <td>False</td>\n      <td>False</td>\n      <td>...</td>\n      <td>0</td>\n      <td>0.0</td>\n      <td>0</td>\n      <td>0.0</td>\n      <td>-25.158001</td>\n      <td>-1.342000</td>\n      <td>-34.104000</td>\n      <td>GEMI5_HUMAN</td>\n      <td>1</td>\n      <td>False</td>\n    </tr>\n    <tr>\n      <th>2</th>\n      <td>Q</td>\n      <td>False</td>\n      <td>False</td>\n      <td>False</td>\n      <td>False</td>\n      <td>False</td>\n      <td>False</td>\n      <td>False</td>\n      <td>False</td>\n      <td>False</td>\n      <td>...</td>\n      <td>1</td>\n      <td>-0.0</td>\n      <td>-1</td>\n      <td>-0.0</td>\n      <td>-21.926001</td>\n      <td>-1.641000</td>\n      <td>-32.175999</td>\n      <td>GEMI5_HUMAN</td>\n      <td>2</td>\n      <td>False</td>\n    </tr>\n    <tr>\n      <th>3</th>\n      <td>E</td>\n      <td>False</td>\n      <td>False</td>\n      <td>False</td>\n      <td>True</td>\n      <td>False</td>\n      <td>False</td>\n      <td>False</td>\n      <td>False</td>\n      <td>False</td>\n      <td>...</td>\n      <td>706</td>\n      <td>-0.1</td>\n      <td>705</td>\n      <td>-0.0</td>\n      <td>-22.073999</td>\n      <td>0.654000</td>\n      <td>-29.171000</td>\n      <td>GEMI5_HUMAN</td>\n      <td>3</td>\n      <td>False</td>\n    </tr>\n    <tr>\n      <th>4</th>\n      <td>P</td>\n      <td>False</td>\n      <td>False</td>\n      <td>False</td>\n      <td>False</td>\n      <td>False</td>\n      <td>False</td>\n      <td>False</td>\n      <td>False</td>\n      <td>False</td>\n      <td>...</td>\n      <td>0</td>\n      <td>0.0</td>\n      <td>705</td>\n      <td>-0.2</td>\n      <td>-19.783001</td>\n      <td>2.670000</td>\n      <td>-26.858999</td>\n      <td>GEMI5_HUMAN</td>\n      <td>4</td>\n      <td>False</td>\n    </tr>\n    <tr>\n      <th>...</th>\n      <td>...</td>\n      <td>...</td>\n      <td>...</td>\n      <td>...</td>\n      <td>...</td>\n      <td>...</td>\n      <td>...</td>\n      <td>...</td>\n      <td>...</td>\n      <td>...</td>\n      <td>...</td>\n      <td>...</td>\n      <td>...</td>\n      <td>...</td>\n      <td>...</td>\n      <td>...</td>\n      <td>...</td>\n      <td>...</td>\n      <td>...</td>\n      <td>...</td>\n      <td>...</td>\n    </tr>\n    <tr>\n      <th>755</th>\n      <td>S</td>\n      <td>False</td>\n      <td>False</td>\n      <td>False</td>\n      <td>False</td>\n      <td>False</td>\n      <td>False</td>\n      <td>False</td>\n      <td>False</td>\n      <td>False</td>\n      <td>...</td>\n      <td>-3</td>\n      <td>-0.1</td>\n      <td>2</td>\n      <td>-0.4</td>\n      <td>-19.742001</td>\n      <td>20.796000</td>\n      <td>-12.319000</td>\n      <td>AOC3_HUMAN</td>\n      <td>755</td>\n      <td>False</td>\n    </tr>\n    <tr>\n      <th>756</th>\n      <td>H</td>\n      <td>False</td>\n      <td>False</td>\n      <td>False</td>\n      <td>False</td>\n      <td>False</td>\n      <td>False</td>\n      <td>True</td>\n      <td>False</td>\n      <td>False</td>\n      <td>...</td>\n      <td>-358</td>\n      <td>-0.1</td>\n      <td>-330</td>\n      <td>-0.1</td>\n      <td>-16.299000</td>\n      <td>19.153999</td>\n      <td>-12.640000</td>\n      <td>AOC3_HUMAN</td>\n      <td>756</td>\n      <td>False</td>\n    </tr>\n    <tr>\n      <th>757</th>\n      <td>G</td>\n      <td>False</td>\n      <td>False</td>\n      <td>False</td>\n      <td>False</td>\n      <td>False</td>\n      <td>True</td>\n      <td>False</td>\n      <td>False</td>\n      <td>False</td>\n      <td>...</td>\n      <td>-360</td>\n      <td>-0.2</td>\n      <td>-1</td>\n      <td>-0.1</td>\n      <td>-13.404000</td>\n      <td>19.502001</td>\n      <td>-10.121000</td>\n      <td>AOC3_HUMAN</td>\n      <td>757</td>\n      <td>False</td>\n    </tr>\n    <tr>\n      <th>758</th>\n      <td>G</td>\n      <td>False</td>\n      <td>False</td>\n      <td>False</td>\n      <td>False</td>\n      <td>False</td>\n      <td>True</td>\n      <td>False</td>\n      <td>False</td>\n      <td>False</td>\n      <td>...</td>\n      <td>0</td>\n      <td>0.0</td>\n      <td>0</td>\n      <td>0.0</td>\n      <td>-10.986000</td>\n      <td>20.320000</td>\n      <td>-13.016000</td>\n      <td>AOC3_HUMAN</td>\n      <td>758</td>\n      <td>False</td>\n    </tr>\n    <tr>\n      <th>759</th>\n      <td>F</td>\n      <td>False</td>\n      <td>False</td>\n      <td>False</td>\n      <td>False</td>\n      <td>True</td>\n      <td>False</td>\n      <td>False</td>\n      <td>False</td>\n      <td>False</td>\n      <td>...</td>\n      <td>0</td>\n      <td>0.0</td>\n      <td>0</td>\n      <td>0.0</td>\n      <td>-7.456000</td>\n      <td>19.052999</td>\n      <td>-13.909000</td>\n      <td>AOC3_HUMAN</td>\n      <td>759</td>\n      <td>False</td>\n    </tr>\n  </tbody>\n</table>\n<p>497166 rows × 50 columns</p>\n</div>"
     },
     "execution_count": 2,
     "metadata": {},
     "output_type": "execute_result"
    }
   ],
   "source": [
    "df_train = pd.read_csv(\"af2_dataset_training_labeled.csv.gz\", index_col=0)\n",
    "df_train"
   ]
  },
  {
   "cell_type": "code",
   "execution_count": 3,
   "id": "1b974029",
   "metadata": {},
   "outputs": [
    {
     "data": {
      "text/plain": "annotation_sequence     object\nfeat_A                    bool\nfeat_C                    bool\nfeat_D                    bool\nfeat_E                    bool\nfeat_F                    bool\nfeat_G                    bool\nfeat_H                    bool\nfeat_I                    bool\nfeat_K                    bool\nfeat_L                    bool\nfeat_M                    bool\nfeat_N                    bool\nfeat_P                    bool\nfeat_Q                    bool\nfeat_R                    bool\nfeat_S                    bool\nfeat_T                    bool\nfeat_V                    bool\nfeat_W                    bool\nfeat_Y                    bool\nannotation_atomrec      object\nfeat_PHI               float64\nfeat_PSI               float64\nfeat_TAU               float64\nfeat_THETA             float64\nfeat_BBSASA            float64\nfeat_SCSASA            float64\nfeat_pLDDT             float64\nfeat_DSSP_H               bool\nfeat_DSSP_B               bool\nfeat_DSSP_E               bool\nfeat_DSSP_G               bool\nfeat_DSSP_I               bool\nfeat_DSSP_T               bool\nfeat_DSSP_S               bool\nfeat_DSSP_6              int64\nfeat_DSSP_7            float64\nfeat_DSSP_8              int64\nfeat_DSSP_9            float64\nfeat_DSSP_10             int64\nfeat_DSSP_11           float64\nfeat_DSSP_12             int64\nfeat_DSSP_13           float64\ncoord_X                float64\ncoord_Y                float64\ncoord_Z                float64\nentry                   object\nentry_index              int64\ny_Ligand                  bool\ndtype: object"
     },
     "execution_count": 3,
     "metadata": {},
     "output_type": "execute_result"
    }
   ],
   "source": [
    "df_train.dtypes"
   ]
  },
  {
   "cell_type": "code",
   "execution_count": 4,
   "id": "b7a94110",
   "metadata": {},
   "outputs": [
    {
     "data": {
      "text/plain": "     feat_A  feat_C  feat_D  feat_E  feat_F  feat_G  feat_H  feat_I  feat_K  \\\n0     False   False   False   False   False   False   False   False   False   \n1     False   False   False   False   False    True   False   False   False   \n2     False   False   False   False   False   False   False   False   False   \n3     False   False   False    True   False   False   False   False   False   \n4     False   False   False   False   False   False   False   False   False   \n..      ...     ...     ...     ...     ...     ...     ...     ...     ...   \n755   False   False   False   False   False   False   False   False   False   \n756   False   False   False   False   False   False    True   False   False   \n757   False   False   False   False   False    True   False   False   False   \n758   False   False   False   False   False    True   False   False   False   \n759   False   False   False   False    True   False   False   False   False   \n\n     feat_L  ...  atomrec_M  atomrec_N  atomrec_P  atomrec_Q  atomrec_R  \\\n0     False  ...          1          0          0          0          0   \n1     False  ...          0          0          0          0          0   \n2     False  ...          0          0          0          1          0   \n3     False  ...          0          0          0          0          0   \n4     False  ...          0          0          1          0          0   \n..      ...  ...        ...        ...        ...        ...        ...   \n755   False  ...          0          0          0          0          0   \n756   False  ...          0          0          0          0          0   \n757   False  ...          0          0          0          0          0   \n758   False  ...          0          0          0          0          0   \n759   False  ...          0          0          0          0          0   \n\n     atomrec_S  atomrec_T  atomrec_V  atomrec_W  atomrec_Y  \n0            0          0          0          0          0  \n1            0          0          0          0          0  \n2            0          0          0          0          0  \n3            0          0          0          0          0  \n4            0          0          0          0          0  \n..         ...        ...        ...        ...        ...  \n755          1          0          0          0          0  \n756          0          0          0          0          0  \n757          0          0          0          0          0  \n758          0          0          0          0          0  \n759          0          0          0          0          0  \n\n[497166 rows x 88 columns]",
      "text/html": "<div>\n<style scoped>\n    .dataframe tbody tr th:only-of-type {\n        vertical-align: middle;\n    }\n\n    .dataframe tbody tr th {\n        vertical-align: top;\n    }\n\n    .dataframe thead th {\n        text-align: right;\n    }\n</style>\n<table border=\"1\" class=\"dataframe\">\n  <thead>\n    <tr style=\"text-align: right;\">\n      <th></th>\n      <th>feat_A</th>\n      <th>feat_C</th>\n      <th>feat_D</th>\n      <th>feat_E</th>\n      <th>feat_F</th>\n      <th>feat_G</th>\n      <th>feat_H</th>\n      <th>feat_I</th>\n      <th>feat_K</th>\n      <th>feat_L</th>\n      <th>...</th>\n      <th>atomrec_M</th>\n      <th>atomrec_N</th>\n      <th>atomrec_P</th>\n      <th>atomrec_Q</th>\n      <th>atomrec_R</th>\n      <th>atomrec_S</th>\n      <th>atomrec_T</th>\n      <th>atomrec_V</th>\n      <th>atomrec_W</th>\n      <th>atomrec_Y</th>\n    </tr>\n  </thead>\n  <tbody>\n    <tr>\n      <th>0</th>\n      <td>False</td>\n      <td>False</td>\n      <td>False</td>\n      <td>False</td>\n      <td>False</td>\n      <td>False</td>\n      <td>False</td>\n      <td>False</td>\n      <td>False</td>\n      <td>False</td>\n      <td>...</td>\n      <td>1</td>\n      <td>0</td>\n      <td>0</td>\n      <td>0</td>\n      <td>0</td>\n      <td>0</td>\n      <td>0</td>\n      <td>0</td>\n      <td>0</td>\n      <td>0</td>\n    </tr>\n    <tr>\n      <th>1</th>\n      <td>False</td>\n      <td>False</td>\n      <td>False</td>\n      <td>False</td>\n      <td>False</td>\n      <td>True</td>\n      <td>False</td>\n      <td>False</td>\n      <td>False</td>\n      <td>False</td>\n      <td>...</td>\n      <td>0</td>\n      <td>0</td>\n      <td>0</td>\n      <td>0</td>\n      <td>0</td>\n      <td>0</td>\n      <td>0</td>\n      <td>0</td>\n      <td>0</td>\n      <td>0</td>\n    </tr>\n    <tr>\n      <th>2</th>\n      <td>False</td>\n      <td>False</td>\n      <td>False</td>\n      <td>False</td>\n      <td>False</td>\n      <td>False</td>\n      <td>False</td>\n      <td>False</td>\n      <td>False</td>\n      <td>False</td>\n      <td>...</td>\n      <td>0</td>\n      <td>0</td>\n      <td>0</td>\n      <td>1</td>\n      <td>0</td>\n      <td>0</td>\n      <td>0</td>\n      <td>0</td>\n      <td>0</td>\n      <td>0</td>\n    </tr>\n    <tr>\n      <th>3</th>\n      <td>False</td>\n      <td>False</td>\n      <td>False</td>\n      <td>True</td>\n      <td>False</td>\n      <td>False</td>\n      <td>False</td>\n      <td>False</td>\n      <td>False</td>\n      <td>False</td>\n      <td>...</td>\n      <td>0</td>\n      <td>0</td>\n      <td>0</td>\n      <td>0</td>\n      <td>0</td>\n      <td>0</td>\n      <td>0</td>\n      <td>0</td>\n      <td>0</td>\n      <td>0</td>\n    </tr>\n    <tr>\n      <th>4</th>\n      <td>False</td>\n      <td>False</td>\n      <td>False</td>\n      <td>False</td>\n      <td>False</td>\n      <td>False</td>\n      <td>False</td>\n      <td>False</td>\n      <td>False</td>\n      <td>False</td>\n      <td>...</td>\n      <td>0</td>\n      <td>0</td>\n      <td>1</td>\n      <td>0</td>\n      <td>0</td>\n      <td>0</td>\n      <td>0</td>\n      <td>0</td>\n      <td>0</td>\n      <td>0</td>\n    </tr>\n    <tr>\n      <th>...</th>\n      <td>...</td>\n      <td>...</td>\n      <td>...</td>\n      <td>...</td>\n      <td>...</td>\n      <td>...</td>\n      <td>...</td>\n      <td>...</td>\n      <td>...</td>\n      <td>...</td>\n      <td>...</td>\n      <td>...</td>\n      <td>...</td>\n      <td>...</td>\n      <td>...</td>\n      <td>...</td>\n      <td>...</td>\n      <td>...</td>\n      <td>...</td>\n      <td>...</td>\n      <td>...</td>\n    </tr>\n    <tr>\n      <th>755</th>\n      <td>False</td>\n      <td>False</td>\n      <td>False</td>\n      <td>False</td>\n      <td>False</td>\n      <td>False</td>\n      <td>False</td>\n      <td>False</td>\n      <td>False</td>\n      <td>False</td>\n      <td>...</td>\n      <td>0</td>\n      <td>0</td>\n      <td>0</td>\n      <td>0</td>\n      <td>0</td>\n      <td>1</td>\n      <td>0</td>\n      <td>0</td>\n      <td>0</td>\n      <td>0</td>\n    </tr>\n    <tr>\n      <th>756</th>\n      <td>False</td>\n      <td>False</td>\n      <td>False</td>\n      <td>False</td>\n      <td>False</td>\n      <td>False</td>\n      <td>True</td>\n      <td>False</td>\n      <td>False</td>\n      <td>False</td>\n      <td>...</td>\n      <td>0</td>\n      <td>0</td>\n      <td>0</td>\n      <td>0</td>\n      <td>0</td>\n      <td>0</td>\n      <td>0</td>\n      <td>0</td>\n      <td>0</td>\n      <td>0</td>\n    </tr>\n    <tr>\n      <th>757</th>\n      <td>False</td>\n      <td>False</td>\n      <td>False</td>\n      <td>False</td>\n      <td>False</td>\n      <td>True</td>\n      <td>False</td>\n      <td>False</td>\n      <td>False</td>\n      <td>False</td>\n      <td>...</td>\n      <td>0</td>\n      <td>0</td>\n      <td>0</td>\n      <td>0</td>\n      <td>0</td>\n      <td>0</td>\n      <td>0</td>\n      <td>0</td>\n      <td>0</td>\n      <td>0</td>\n    </tr>\n    <tr>\n      <th>758</th>\n      <td>False</td>\n      <td>False</td>\n      <td>False</td>\n      <td>False</td>\n      <td>False</td>\n      <td>True</td>\n      <td>False</td>\n      <td>False</td>\n      <td>False</td>\n      <td>False</td>\n      <td>...</td>\n      <td>0</td>\n      <td>0</td>\n      <td>0</td>\n      <td>0</td>\n      <td>0</td>\n      <td>0</td>\n      <td>0</td>\n      <td>0</td>\n      <td>0</td>\n      <td>0</td>\n    </tr>\n    <tr>\n      <th>759</th>\n      <td>False</td>\n      <td>False</td>\n      <td>False</td>\n      <td>False</td>\n      <td>True</td>\n      <td>False</td>\n      <td>False</td>\n      <td>False</td>\n      <td>False</td>\n      <td>False</td>\n      <td>...</td>\n      <td>0</td>\n      <td>0</td>\n      <td>0</td>\n      <td>0</td>\n      <td>0</td>\n      <td>0</td>\n      <td>0</td>\n      <td>0</td>\n      <td>0</td>\n      <td>0</td>\n    </tr>\n  </tbody>\n</table>\n<p>497166 rows × 88 columns</p>\n</div>"
     },
     "execution_count": 4,
     "metadata": {},
     "output_type": "execute_result"
    }
   ],
   "source": [
    "df_train = pd.get_dummies(df_train,columns=[\"annotation_sequence\"], prefix='Sequence')\n",
    "df_train = pd.get_dummies(df_train,columns=[\"annotation_atomrec\"], prefix='atomrec')\n",
    "df_train"
   ]
  },
  {
   "cell_type": "code",
   "execution_count": 5,
   "id": "a30311b0",
   "metadata": {},
   "outputs": [
    {
     "data": {
      "text/plain": "False    479912\nTrue      17254\nName: y_Ligand, dtype: int64"
     },
     "execution_count": 5,
     "metadata": {},
     "output_type": "execute_result"
    }
   ],
   "source": [
    "df_train['y_Ligand'].value_counts()"
   ]
  },
  {
   "cell_type": "code",
   "execution_count": 6,
   "id": "92ff5184",
   "metadata": {},
   "outputs": [],
   "source": [
    "df_train.drop(columns=['entry'],inplace=True)"
   ]
  },
  {
   "cell_type": "code",
   "execution_count": 7,
   "id": "05535ff3",
   "metadata": {},
   "outputs": [
    {
     "data": {
      "text/plain": "feat_A       int64\nfeat_C       int64\nfeat_D       int64\nfeat_E       int64\nfeat_F       int64\n             ...  \natomrec_S    uint8\natomrec_T    uint8\natomrec_V    uint8\natomrec_W    uint8\natomrec_Y    uint8\nLength: 87, dtype: object"
     },
     "execution_count": 7,
     "metadata": {},
     "output_type": "execute_result"
    }
   ],
   "source": [
    "df_train = df_train * 1\n",
    "df_train.dtypes"
   ]
  },
  {
   "cell_type": "markdown",
   "id": "09a1b37d-d4c7-4ba5-b096-6efbc0775c60",
   "metadata": {
    "id": "09a1b37d-d4c7-4ba5-b096-6efbc0775c60"
   },
   "source": []
  },
  {
   "cell_type": "markdown",
   "id": "b84b49b6",
   "metadata": {
    "id": "b84b49b6"
   },
   "source": [
    "## Training\n",
    "\n",
    "Train-test split"
   ]
  },
  {
   "cell_type": "code",
   "execution_count": 8,
   "id": "92eca4c5",
   "metadata": {
    "id": "92eca4c5"
   },
   "outputs": [],
   "source": [
    "from sklearn.model_selection import train_test_split\n",
    "\n",
    "X_train, X_test, y_train, y_test = train_test_split(df_train.drop([\"y_Ligand\"], axis=1), df_train[\"y_Ligand\"], test_size=0.2, random_state=42)"
   ]
  },
  {
   "cell_type": "markdown",
   "source": [
    "Apply resampling with smote"
   ],
   "metadata": {
    "collapsed": false
   }
  },
  {
   "cell_type": "code",
   "execution_count": 9,
   "id": "d9078645",
   "metadata": {},
   "outputs": [],
   "source": [
    "X_train, y_train = SMOTE(sampling_strategy=1/3.5).fit_resample(X_train, y_train)"
   ]
  },
  {
   "cell_type": "code",
   "execution_count": 10,
   "id": "35c56708",
   "metadata": {
    "id": "35c56708",
    "outputId": "2af72a0f-7126-42d9-97d0-7d0c04b05591"
   },
   "outputs": [],
   "source": [
    "xgb = XGBClassifier(\n",
    "        learning_rate =0.1,\n",
    "        n_estimators=5000,\n",
    "        max_depth=11,\n",
    "        min_child_weight=2,\n",
    "        gamma=0.4,\n",
    "        subsample=0.9,\n",
    "        colsample_bytree=0.7,\n",
    "        reg_alpha = 2.5e-6,\n",
    "        objective= 'binary:logistic',\n",
    "        tree_method='gpu_hist',\n",
    "        scale_pos_weight=1,\n",
    "        seed=27)"
   ]
  },
  {
   "cell_type": "markdown",
   "source": [
    "### Grid search for best hyperparameter\n",
    "\n",
    "Commented out because all hyperparameters are finalized"
   ],
   "metadata": {
    "collapsed": false
   }
  },
  {
   "cell_type": "code",
   "execution_count": 11,
   "id": "3e844a0f",
   "metadata": {},
   "outputs": [],
   "source": [
    "from sklearn.model_selection import GridSearchCV\n",
    "\n",
    "param_test1 = {\n",
    "    \"learning_rate\": [0.01,0.05,0.10,0.15,0.20],\n",
    "}\n",
    "# gsearch1 = GridSearchCV(estimator = xgb, param_grid = param_test1, scoring='roc_auc',n_jobs=6, cv=5)\n",
    "# gsearch1.fit(X_test,y_test)"
   ]
  },
  {
   "cell_type": "code",
   "execution_count": 12,
   "id": "b9d24ee4",
   "metadata": {},
   "outputs": [],
   "source": [
    "#gsearch1.cv_results_, gsearch1.best_params_, gsearch1.best_score_"
   ]
  },
  {
   "cell_type": "code",
   "execution_count": 13,
   "id": "5904ea98",
   "metadata": {},
   "outputs": [
    {
     "name": "stderr",
     "output_type": "stream",
     "text": [
      "/home/ai/mambaforge/envs/keras/lib/python3.10/site-packages/xgboost/sklearn.py:861: UserWarning: `eval_metric` in `fit` method is deprecated for better compatibility with scikit-learn, use `eval_metric` in constructor or`set_params` instead.\n",
      "  warnings.warn(\n"
     ]
    },
    {
     "data": {
      "text/plain": "XGBClassifier(base_score=0.5, booster='gbtree', callbacks=None,\n              colsample_bylevel=1, colsample_bynode=1, colsample_bytree=0.7,\n              early_stopping_rounds=None, enable_categorical=False,\n              eval_metric=None, feature_types=None, gamma=0.4, gpu_id=0,\n              grow_policy='depthwise', importance_type=None,\n              interaction_constraints='', learning_rate=0.1, max_bin=256,\n              max_cat_threshold=64, max_cat_to_onehot=4, max_delta_step=0,\n              max_depth=11, max_leaves=0, min_child_weight=2, missing=nan,\n              monotone_constraints='()', n_estimators=5000, n_jobs=0,\n              num_parallel_tree=1, predictor='auto', random_state=27, ...)",
      "text/html": "<style>#sk-container-id-1 {color: black;background-color: white;}#sk-container-id-1 pre{padding: 0;}#sk-container-id-1 div.sk-toggleable {background-color: white;}#sk-container-id-1 label.sk-toggleable__label {cursor: pointer;display: block;width: 100%;margin-bottom: 0;padding: 0.3em;box-sizing: border-box;text-align: center;}#sk-container-id-1 label.sk-toggleable__label-arrow:before {content: \"▸\";float: left;margin-right: 0.25em;color: #696969;}#sk-container-id-1 label.sk-toggleable__label-arrow:hover:before {color: black;}#sk-container-id-1 div.sk-estimator:hover label.sk-toggleable__label-arrow:before {color: black;}#sk-container-id-1 div.sk-toggleable__content {max-height: 0;max-width: 0;overflow: hidden;text-align: left;background-color: #f0f8ff;}#sk-container-id-1 div.sk-toggleable__content pre {margin: 0.2em;color: black;border-radius: 0.25em;background-color: #f0f8ff;}#sk-container-id-1 input.sk-toggleable__control:checked~div.sk-toggleable__content {max-height: 200px;max-width: 100%;overflow: auto;}#sk-container-id-1 input.sk-toggleable__control:checked~label.sk-toggleable__label-arrow:before {content: \"▾\";}#sk-container-id-1 div.sk-estimator input.sk-toggleable__control:checked~label.sk-toggleable__label {background-color: #d4ebff;}#sk-container-id-1 div.sk-label input.sk-toggleable__control:checked~label.sk-toggleable__label {background-color: #d4ebff;}#sk-container-id-1 input.sk-hidden--visually {border: 0;clip: rect(1px 1px 1px 1px);clip: rect(1px, 1px, 1px, 1px);height: 1px;margin: -1px;overflow: hidden;padding: 0;position: absolute;width: 1px;}#sk-container-id-1 div.sk-estimator {font-family: monospace;background-color: #f0f8ff;border: 1px dotted black;border-radius: 0.25em;box-sizing: border-box;margin-bottom: 0.5em;}#sk-container-id-1 div.sk-estimator:hover {background-color: #d4ebff;}#sk-container-id-1 div.sk-parallel-item::after {content: \"\";width: 100%;border-bottom: 1px solid gray;flex-grow: 1;}#sk-container-id-1 div.sk-label:hover label.sk-toggleable__label {background-color: #d4ebff;}#sk-container-id-1 div.sk-serial::before {content: \"\";position: absolute;border-left: 1px solid gray;box-sizing: border-box;top: 0;bottom: 0;left: 50%;z-index: 0;}#sk-container-id-1 div.sk-serial {display: flex;flex-direction: column;align-items: center;background-color: white;padding-right: 0.2em;padding-left: 0.2em;position: relative;}#sk-container-id-1 div.sk-item {position: relative;z-index: 1;}#sk-container-id-1 div.sk-parallel {display: flex;align-items: stretch;justify-content: center;background-color: white;position: relative;}#sk-container-id-1 div.sk-item::before, #sk-container-id-1 div.sk-parallel-item::before {content: \"\";position: absolute;border-left: 1px solid gray;box-sizing: border-box;top: 0;bottom: 0;left: 50%;z-index: -1;}#sk-container-id-1 div.sk-parallel-item {display: flex;flex-direction: column;z-index: 1;position: relative;background-color: white;}#sk-container-id-1 div.sk-parallel-item:first-child::after {align-self: flex-end;width: 50%;}#sk-container-id-1 div.sk-parallel-item:last-child::after {align-self: flex-start;width: 50%;}#sk-container-id-1 div.sk-parallel-item:only-child::after {width: 0;}#sk-container-id-1 div.sk-dashed-wrapped {border: 1px dashed gray;margin: 0 0.4em 0.5em 0.4em;box-sizing: border-box;padding-bottom: 0.4em;background-color: white;}#sk-container-id-1 div.sk-label label {font-family: monospace;font-weight: bold;display: inline-block;line-height: 1.2em;}#sk-container-id-1 div.sk-label-container {text-align: center;}#sk-container-id-1 div.sk-container {/* jupyter's `normalize.less` sets `[hidden] { display: none; }` but bootstrap.min.css set `[hidden] { display: none !important; }` so we also need the `!important` here to be able to override the default hidden behavior on the sphinx rendered scikit-learn.org. See: https://github.com/scikit-learn/scikit-learn/issues/21755 */display: inline-block !important;position: relative;}#sk-container-id-1 div.sk-text-repr-fallback {display: none;}</style><div id=\"sk-container-id-1\" class=\"sk-top-container\"><div class=\"sk-text-repr-fallback\"><pre>XGBClassifier(base_score=0.5, booster=&#x27;gbtree&#x27;, callbacks=None,\n              colsample_bylevel=1, colsample_bynode=1, colsample_bytree=0.7,\n              early_stopping_rounds=None, enable_categorical=False,\n              eval_metric=None, feature_types=None, gamma=0.4, gpu_id=0,\n              grow_policy=&#x27;depthwise&#x27;, importance_type=None,\n              interaction_constraints=&#x27;&#x27;, learning_rate=0.1, max_bin=256,\n              max_cat_threshold=64, max_cat_to_onehot=4, max_delta_step=0,\n              max_depth=11, max_leaves=0, min_child_weight=2, missing=nan,\n              monotone_constraints=&#x27;()&#x27;, n_estimators=5000, n_jobs=0,\n              num_parallel_tree=1, predictor=&#x27;auto&#x27;, random_state=27, ...)</pre><b>In a Jupyter environment, please rerun this cell to show the HTML representation or trust the notebook. <br />On GitHub, the HTML representation is unable to render, please try loading this page with nbviewer.org.</b></div><div class=\"sk-container\" hidden><div class=\"sk-item\"><div class=\"sk-estimator sk-toggleable\"><input class=\"sk-toggleable__control sk-hidden--visually\" id=\"sk-estimator-id-1\" type=\"checkbox\" checked><label for=\"sk-estimator-id-1\" class=\"sk-toggleable__label sk-toggleable__label-arrow\">XGBClassifier</label><div class=\"sk-toggleable__content\"><pre>XGBClassifier(base_score=0.5, booster=&#x27;gbtree&#x27;, callbacks=None,\n              colsample_bylevel=1, colsample_bynode=1, colsample_bytree=0.7,\n              early_stopping_rounds=None, enable_categorical=False,\n              eval_metric=None, feature_types=None, gamma=0.4, gpu_id=0,\n              grow_policy=&#x27;depthwise&#x27;, importance_type=None,\n              interaction_constraints=&#x27;&#x27;, learning_rate=0.1, max_bin=256,\n              max_cat_threshold=64, max_cat_to_onehot=4, max_delta_step=0,\n              max_depth=11, max_leaves=0, min_child_weight=2, missing=nan,\n              monotone_constraints=&#x27;()&#x27;, n_estimators=5000, n_jobs=0,\n              num_parallel_tree=1, predictor=&#x27;auto&#x27;, random_state=27, ...)</pre></div></div></div></div></div>"
     },
     "execution_count": 13,
     "metadata": {},
     "output_type": "execute_result"
    }
   ],
   "source": [
    "xgb.fit(X_train, y_train, eval_metric='auc')"
   ]
  },
  {
   "cell_type": "markdown",
   "source": [
    "### Analysis\n",
    "\n",
    "Finding the best threshold to maximize ROC-AUC and average of ROC-AUC and PR-AUC"
   ],
   "metadata": {
    "collapsed": false
   }
  },
  {
   "cell_type": "code",
   "execution_count": 14,
   "id": "8279ec2a",
   "metadata": {
    "id": "8279ec2a",
    "outputId": "781cf664-84af-4bb3-d21b-88b4593f306a"
   },
   "outputs": [
    {
     "name": "stdout",
     "output_type": "stream",
     "text": [
      "ROC-AUC: 0.6289140284601223 \n",
      " PR-AUC 0.5367240095160903\n"
     ]
    }
   ],
   "source": [
    "from sklearn import metrics\n",
    "y_test_res = xgb.predict_proba(X_test)[:, 1]\n",
    "y_test_pred = y_test_res > 0.5\n",
    "\n",
    "fpr, tpr, thresholds = metrics.roc_curve(y_test, y_test_pred, pos_label=1)\n",
    "auc_roc = metrics.auc(fpr, tpr)\n",
    "\n",
    "precision, recall, _ = metrics.precision_recall_curve(y_test, y_test_pred)\n",
    "auc_pr = metrics.auc(recall, precision)\n",
    "\n",
    "print(f\"ROC-AUC: {auc_roc} \\n PR-AUC {auc_pr}\")"
   ]
  },
  {
   "cell_type": "code",
   "execution_count": 15,
   "id": "de17f4ad",
   "metadata": {},
   "outputs": [
    {
     "name": "stdout",
     "output_type": "stream",
     "text": [
      "0\n",
      "ROC-AUC: 0.5 \n",
      " PR-AUC 0.5170766538608524 \n",
      " Mean: 0.5085383269304262\n",
      "1\n",
      "ROC-AUC: 0.7993457775878908 \n",
      " PR-AUC 0.46388939928626816 \n",
      " Mean: 0.6316175884370795\n",
      "2\n",
      "ROC-AUC: 0.7930615920312855 \n",
      " PR-AUC 0.4441963712841347 \n",
      " Mean: 0.6186289816577101\n",
      "3\n",
      "ROC-AUC: 0.7846276666448114 \n",
      " PR-AUC 0.4397692612091029 \n",
      " Mean: 0.6121984639269572\n",
      "4\n",
      "ROC-AUC: 0.77263552994372 \n",
      " PR-AUC 0.4355984777454303 \n",
      " Mean: 0.6041170038445751\n",
      "5\n",
      "ROC-AUC: 0.7633137419274875 \n",
      " PR-AUC 0.43695070140622433 \n",
      " Mean: 0.6001322216668559\n",
      "6\n",
      "ROC-AUC: 0.7550548368283059 \n",
      " PR-AUC 0.4396373435258205 \n",
      " Mean: 0.5973460901770632\n",
      "7\n",
      "ROC-AUC: 0.7481705716408731 \n",
      " PR-AUC 0.44360695781280124 \n",
      " Mean: 0.5958887647268372\n",
      "8\n",
      "ROC-AUC: 0.7421130490382304 \n",
      " PR-AUC 0.4489457305800559 \n",
      " Mean: 0.5955293898091432\n",
      "9\n",
      "ROC-AUC: 0.7364182914100231 \n",
      " PR-AUC 0.4545984271859946 \n",
      " Mean: 0.5955083592980088\n",
      "10\n",
      "ROC-AUC: 0.7293299268489889 \n",
      " PR-AUC 0.4568396378754408 \n",
      " Mean: 0.5930847823622148\n",
      "11\n",
      "ROC-AUC: 0.7239904344646068 \n",
      " PR-AUC 0.46072115734415564 \n",
      " Mean: 0.5923557959043813\n",
      "12\n",
      "ROC-AUC: 0.7184166598169537 \n",
      " PR-AUC 0.4633738647458181 \n",
      " Mean: 0.5908952622813859\n",
      "13\n",
      "ROC-AUC: 0.7134526384101346 \n",
      " PR-AUC 0.4686279313547275 \n",
      " Mean: 0.5910402848824311\n",
      "14\n",
      "ROC-AUC: 0.7094321910415761 \n",
      " PR-AUC 0.47379187539977996 \n",
      " Mean: 0.591612033220678\n",
      "15\n",
      "ROC-AUC: 0.7048190656569466 \n",
      " PR-AUC 0.47698800402546127 \n",
      " Mean: 0.590903534841204\n",
      "16\n",
      "ROC-AUC: 0.7000133081891834 \n",
      " PR-AUC 0.47760004062693723 \n",
      " Mean: 0.5888066744080603\n",
      "17\n",
      "ROC-AUC: 0.6962590000753284 \n",
      " PR-AUC 0.48084691503573807 \n",
      " Mean: 0.5885529575555333\n",
      "18\n",
      "ROC-AUC: 0.6929411818020306 \n",
      " PR-AUC 0.48545704417411084 \n",
      " Mean: 0.5891991129880707\n",
      "19\n",
      "ROC-AUC: 0.689550475713493 \n",
      " PR-AUC 0.4892394653097943 \n",
      " Mean: 0.5893949705116437\n",
      "20\n",
      "ROC-AUC: 0.6870587806686552 \n",
      " PR-AUC 0.49557223460482414 \n",
      " Mean: 0.5913155076367397\n",
      "21\n",
      "ROC-AUC: 0.6836539121697779 \n",
      " PR-AUC 0.49685386953385957 \n",
      " Mean: 0.5902538908518187\n",
      "22\n",
      "ROC-AUC: 0.6814477250625004 \n",
      " PR-AUC 0.5009847359361886 \n",
      " Mean: 0.5912162304993445\n",
      "23\n",
      "ROC-AUC: 0.6790422431923602 \n",
      " PR-AUC 0.5038107619208226 \n",
      " Mean: 0.5914265025565915\n",
      "24\n",
      "ROC-AUC: 0.6763891536994913 \n",
      " PR-AUC 0.5079952568678747 \n",
      " Mean: 0.592192205283683\n",
      "25\n",
      "ROC-AUC: 0.6726481709450943 \n",
      " PR-AUC 0.5091769026126474 \n",
      " Mean: 0.5909125367788708\n",
      "26\n",
      "ROC-AUC: 0.6698649246392973 \n",
      " PR-AUC 0.5098894552932107 \n",
      " Mean: 0.589877189966254\n",
      "27\n",
      "ROC-AUC: 0.6675441995366429 \n",
      " PR-AUC 0.5122782844329097 \n",
      " Mean: 0.5899112419847763\n",
      "28\n",
      "ROC-AUC: 0.6656131078218915 \n",
      " PR-AUC 0.5137189910522302 \n",
      " Mean: 0.5896660494370609\n",
      "29\n",
      "ROC-AUC: 0.664622677330977 \n",
      " PR-AUC 0.5189775603132832 \n",
      " Mean: 0.5918001188221301\n",
      "30\n",
      "ROC-AUC: 0.6628284051088829 \n",
      " PR-AUC 0.5206443608112414 \n",
      " Mean: 0.5917363829600621\n",
      "31\n",
      "ROC-AUC: 0.6615970296749685 \n",
      " PR-AUC 0.5223376218711764 \n",
      " Mean: 0.5919673257730724\n",
      "32\n",
      "ROC-AUC: 0.6587617206440001 \n",
      " PR-AUC 0.522183316251128 \n",
      " Mean: 0.5904725184475641\n",
      "33\n",
      "ROC-AUC: 0.6563993453612087 \n",
      " PR-AUC 0.5242788724052401 \n",
      " Mean: 0.5903391088832244\n",
      "34\n",
      "ROC-AUC: 0.654242927521009 \n",
      " PR-AUC 0.5230454643331152 \n",
      " Mean: 0.5886441959270621\n",
      "35\n",
      "ROC-AUC: 0.6522753918986377 \n",
      " PR-AUC 0.5240244676532102 \n",
      " Mean: 0.588149929775924\n",
      "36\n",
      "ROC-AUC: 0.6501762430561263 \n",
      " PR-AUC 0.5256536136054031 \n",
      " Mean: 0.5879149283307648\n",
      "37\n",
      "ROC-AUC: 0.6484615213290008 \n",
      " PR-AUC 0.5253348455113582 \n",
      " Mean: 0.5868981834201795\n",
      "38\n",
      "ROC-AUC: 0.6467728309644609 \n",
      " PR-AUC 0.5263793118476189 \n",
      " Mean: 0.58657607140604\n",
      "39\n",
      "ROC-AUC: 0.6450893468724381 \n",
      " PR-AUC 0.5278058750461638 \n",
      " Mean: 0.586447610959301\n",
      "40\n",
      "ROC-AUC: 0.6435530948181069 \n",
      " PR-AUC 0.5296035296680223 \n",
      " Mean: 0.5865783122430646\n",
      "41\n",
      "ROC-AUC: 0.6420064302187413 \n",
      " PR-AUC 0.5309634245625556 \n",
      " Mean: 0.5864849273906485\n",
      "42\n",
      "ROC-AUC: 0.6398552186510585 \n",
      " PR-AUC 0.5305970360730615 \n",
      " Mean: 0.58522612736206\n",
      "43\n",
      "ROC-AUC: 0.6387502501647672 \n",
      " PR-AUC 0.5328839728171174 \n",
      " Mean: 0.5858171114909423\n",
      "44\n",
      "ROC-AUC: 0.636146929938976 \n",
      " PR-AUC 0.5313583682933309 \n",
      " Mean: 0.5837526491161535\n",
      "45\n",
      "ROC-AUC: 0.6347422911047848 \n",
      " PR-AUC 0.5330704900644125 \n",
      " Mean: 0.5839063905845987\n",
      "46\n",
      "ROC-AUC: 0.633753317021082 \n",
      " PR-AUC 0.5339831735447884 \n",
      " Mean: 0.5838682452829351\n",
      "47\n",
      "ROC-AUC: 0.6318601256211623 \n",
      " PR-AUC 0.5321927523420344 \n",
      " Mean: 0.5820264389815983\n",
      "48\n",
      "ROC-AUC: 0.6308451201748738 \n",
      " PR-AUC 0.5315110384312038 \n",
      " Mean: 0.5811780793030388\n",
      "49\n",
      "ROC-AUC: 0.6295773008333396 \n",
      " PR-AUC 0.533066185606944 \n",
      " Mean: 0.5813217432201419\n",
      "50\n",
      "ROC-AUC: 0.6289140284601223 \n",
      " PR-AUC 0.5367240095160903 \n",
      " Mean: 0.5828190189881064\n",
      "51\n",
      "ROC-AUC: 0.6270208370602028 \n",
      " PR-AUC 0.5350536161396988 \n",
      " Mean: 0.5810372265999508\n",
      "52\n",
      "ROC-AUC: 0.6244071042893774 \n",
      " PR-AUC 0.5332837121094534 \n",
      " Mean: 0.5788454081994154\n",
      "53\n",
      "ROC-AUC: 0.6223927122143519 \n",
      " PR-AUC 0.5332634111102285 \n",
      " Mean: 0.5778280616622902\n",
      "54\n",
      "ROC-AUC: 0.6215457638958234 \n",
      " PR-AUC 0.5344785933232699 \n",
      " Mean: 0.5780121786095467\n",
      "55\n",
      "ROC-AUC: 0.6206831967597436 \n",
      " PR-AUC 0.534582299911564 \n",
      " Mean: 0.5776327483356538\n",
      "56\n",
      "ROC-AUC: 0.6189372373975153 \n",
      " PR-AUC 0.5332672642725198 \n",
      " Mean: 0.5761022508350175\n",
      "57\n",
      "ROC-AUC: 0.6175169797457725 \n",
      " PR-AUC 0.5348571462516203 \n",
      " Mean: 0.5761870629986964\n",
      "58\n",
      "ROC-AUC: 0.6163651548068269 \n",
      " PR-AUC 0.5349814323311362 \n",
      " Mean: 0.5756732935689814\n",
      "59\n",
      "ROC-AUC: 0.6147716337548071 \n",
      " PR-AUC 0.5344214204876931 \n",
      " Mean: 0.5745965271212501\n",
      "60\n",
      "ROC-AUC: 0.6129044737174731 \n",
      " PR-AUC 0.5351309583838413 \n",
      " Mean: 0.5740177160506572\n",
      "61\n",
      "ROC-AUC: 0.6113161589379705 \n",
      " PR-AUC 0.5351131985861359 \n",
      " Mean: 0.5732146787620532\n",
      "62\n",
      "ROC-AUC: 0.6092705292278422 \n",
      " PR-AUC 0.5330834833757419 \n",
      " Mean: 0.571177006301792\n",
      "63\n",
      "ROC-AUC: 0.6070984925700911 \n",
      " PR-AUC 0.5326474535120945 \n",
      " Mean: 0.5698729730410927\n",
      "64\n",
      "ROC-AUC: 0.60548935270052 \n",
      " PR-AUC 0.5309093673745212 \n",
      " Mean: 0.5681993600375206\n",
      "65\n",
      "ROC-AUC: 0.6036065738456344 \n",
      " PR-AUC 0.5305881631289193 \n",
      " Mean: 0.5670973684872769\n",
      "66\n",
      "ROC-AUC: 0.6023231356865488 \n",
      " PR-AUC 0.5322961171019485 \n",
      " Mean: 0.5673096263942486\n",
      "67\n",
      "ROC-AUC: 0.601328955330329 \n",
      " PR-AUC 0.5341019933153497 \n",
      " Mean: 0.5677154743228394\n",
      "68\n",
      "ROC-AUC: 0.5997354342783092 \n",
      " PR-AUC 0.5340102320194228 \n",
      " Mean: 0.5668728331488659\n",
      "69\n",
      "ROC-AUC: 0.5979842686435638 \n",
      " PR-AUC 0.5326792735214626 \n",
      " Mean: 0.5653317710825132\n",
      "70\n",
      "ROC-AUC: 0.5969796757423097 \n",
      " PR-AUC 0.5336506187783088 \n",
      " Mean: 0.5653151472603093\n",
      "71\n",
      "ROC-AUC: 0.5941978858437243 \n",
      " PR-AUC 0.5306741058161577 \n",
      " Mean: 0.562435995829941\n",
      "72\n",
      "ROC-AUC: 0.591715766293039 \n",
      " PR-AUC 0.5287450349345512 \n",
      " Mean: 0.560230400613795\n",
      "73\n",
      "ROC-AUC: 0.5898433999831878 \n",
      " PR-AUC 0.5301871533616618 \n",
      " Mean: 0.5600152766724248\n",
      "74\n",
      "ROC-AUC: 0.588381492151308 \n",
      " PR-AUC 0.5289196592622307 \n",
      " Mean: 0.5586505757067693\n",
      "75\n",
      "ROC-AUC: 0.5873821055225711 \n",
      " PR-AUC 0.5308514994368553 \n",
      " Mean: 0.5591168024797132\n",
      "76\n",
      "ROC-AUC: 0.5862146617660741 \n",
      " PR-AUC 0.5301348520244041 \n",
      " Mean: 0.5581747568952391\n",
      "77\n",
      "ROC-AUC: 0.5840113874732202 \n",
      " PR-AUC 0.527059715785414 \n",
      " Mean: 0.5555355516293171\n",
      "78\n",
      "ROC-AUC: 0.5822654281109919 \n",
      " PR-AUC 0.5266586724736616 \n",
      " Mean: 0.5544620502923268\n",
      "79\n",
      "ROC-AUC: 0.580971577406872 \n",
      " PR-AUC 0.5284225869641223 \n",
      " Mean: 0.5546970821854971\n",
      "80\n",
      "ROC-AUC: 0.5792464431347123 \n",
      " PR-AUC 0.5310039422756803 \n",
      " Mean: 0.5551251927051963\n",
      "81\n",
      "ROC-AUC: 0.5783734634535982 \n",
      " PR-AUC 0.5309624413198131 \n",
      " Mean: 0.5546679523867056\n",
      "82\n",
      "ROC-AUC: 0.5766170915463356 \n",
      " PR-AUC 0.5294725750097715 \n",
      " Mean: 0.5530448332780535\n",
      "83\n",
      "ROC-AUC: 0.5750131579492815 \n",
      " PR-AUC 0.5289929468304599 \n",
      " Mean: 0.5520030523898707\n",
      "84\n",
      "ROC-AUC: 0.5720841360130048 \n",
      " PR-AUC 0.5263265278345705 \n",
      " Mean: 0.5492053319237876\n",
      "85\n",
      "ROC-AUC: 0.5688502374563112 \n",
      " PR-AUC 0.5215287222006779 \n",
      " Mean: 0.5451894798284946\n",
      "86\n",
      "ROC-AUC: 0.5667941952011487 \n",
      " PR-AUC 0.5187030939865996 \n",
      " Mean: 0.5427486445938742\n",
      "87\n",
      "ROC-AUC: 0.5647433592185033 \n",
      " PR-AUC 0.5166895279994068 \n",
      " Mean: 0.5407164436089551\n",
      "88\n",
      "ROC-AUC: 0.5612410279490124 \n",
      " PR-AUC 0.5155933791324361 \n",
      " Mean: 0.5384172035407242\n",
      "89\n",
      "ROC-AUC: 0.5584644443229443 \n",
      " PR-AUC 0.5142132319182817 \n",
      " Mean: 0.536338838120613\n",
      "90\n",
      "ROC-AUC: 0.5571497685287559 \n",
      " PR-AUC 0.5137125193237247 \n",
      " Mean: 0.5354311439262402\n",
      "91\n",
      "ROC-AUC: 0.5542207465924793 \n",
      " PR-AUC 0.5112194235041728 \n",
      " Mean: 0.532720085048326\n",
      "92\n",
      "ROC-AUC: 0.5517438333143112 \n",
      " PR-AUC 0.5118588992727656 \n",
      " Mean: 0.5318013662935384\n",
      "93\n",
      "ROC-AUC: 0.5485255535751687 \n",
      " PR-AUC 0.510237681920845 \n",
      " Mean: 0.5293816177480068\n",
      "94\n",
      "ROC-AUC: 0.5444290878823952 \n",
      " PR-AUC 0.5083891896421533 \n",
      " Mean: 0.5264091387622742\n",
      "95\n",
      "ROC-AUC: 0.5412316332333214 \n",
      " PR-AUC 0.5132046900547426 \n",
      " Mean: 0.5272181616440319\n",
      "96\n",
      "ROC-AUC: 0.5373032246683078 \n",
      " PR-AUC 0.5201081270235498 \n",
      " Mean: 0.5287056758459288\n",
      "97\n",
      "ROC-AUC: 0.5330439081202913 \n",
      " PR-AUC 0.515877437849332 \n",
      " Mean: 0.5244606729848117\n",
      "98\n",
      "ROC-AUC: 0.5268966064448722 \n",
      " PR-AUC 0.5196624083789514 \n",
      " Mean: 0.5232795074119119\n",
      "99\n",
      "ROC-AUC: 0.5169160655169598 \n",
      " PR-AUC 0.5207182007632606 \n",
      " Mean: 0.5188171331401101\n"
     ]
    }
   ],
   "source": [
    "auc_rocs = []\n",
    "auc_prs = []\n",
    "means = []\n",
    "for i in range(100):\n",
    "    print(i)\n",
    "    y_test_pred = y_test_res > (i/100)\n",
    "\n",
    "    fpr, tpr, thresholds = metrics.roc_curve(y_test, y_test_pred, pos_label=1)\n",
    "    auc_roc = metrics.auc(fpr, tpr)\n",
    "\n",
    "    precision, recall, _ = metrics.precision_recall_curve(y_test, y_test_pred)\n",
    "    auc_pr = metrics.auc(recall, precision)\n",
    "\n",
    "    mean = (auc_pr + auc_roc) / 2\n",
    "\n",
    "    print(f\"ROC-AUC: {auc_roc} \\n PR-AUC {auc_pr} \\n Mean: {mean}\")\n",
    "    auc_rocs.append(auc_roc)\n",
    "    auc_prs.append(auc_pr)\n",
    "    means.append(mean)"
   ]
  },
  {
   "cell_type": "code",
   "execution_count": 16,
   "id": "77e6be90",
   "metadata": {},
   "outputs": [
    {
     "data": {
      "text/plain": "<function matplotlib.pyplot.show(close=None, block=None)>"
     },
     "execution_count": 16,
     "metadata": {},
     "output_type": "execute_result"
    },
    {
     "data": {
      "text/plain": "<Figure size 640x480 with 1 Axes>",
      "image/png": "[encoded data removed]"
     },
     "metadata": {},
     "output_type": "display_data"
    }
   ],
   "source": [
    "import matplotlib.pyplot as plt\n",
    "plt.plot(list(range(100)),auc_rocs,'r')\n",
    "plt.plot(list(range(100)),auc_prs, 'g')\n",
    "plt.plot(list(range(100)),means, 'b')\n",
    "plt.show"
   ]
  },
  {
   "cell_type": "markdown",
   "id": "742476a7-4fd4-4ec1-a265-037d62f46ecd",
   "metadata": {
    "id": "742476a7-4fd4-4ec1-a265-037d62f46ecd"
   },
   "source": [
    "## Submission\n",
    "\n",
    "Apply preprocessing again to the test dataframe"
   ]
  },
  {
   "cell_type": "code",
   "execution_count": 17,
   "id": "175839a9-0039-4ca8-bfb1-ecfc5aa16e47",
   "metadata": {
    "execution": {
     "iopub.execute_input": "2023-02-05T15:44:20.677130Z",
     "iopub.status.busy": "2023-02-05T15:44:20.677074Z",
     "iopub.status.idle": "2023-02-05T15:44:21.057212Z",
     "shell.execute_reply": "2023-02-05T15:44:21.056956Z",
     "shell.execute_reply.started": "2023-02-05T15:44:20.677123Z"
    },
    "id": "175839a9-0039-4ca8-bfb1-ecfc5aa16e47",
    "outputId": "897f9590-4234-40cf-8315-981b5ccc4bd5",
    "tags": []
   },
   "outputs": [
    {
     "data": {
      "text/plain": "     feat_A  feat_C  feat_D  feat_E  feat_F  feat_G  feat_H  feat_I  feat_K  \\\n0     False   False   False   False   False   False   False   False   False   \n1      True   False   False   False   False   False   False   False   False   \n2      True   False   False   False   False   False   False   False   False   \n3     False   False   False   False   False   False   False   False   False   \n4     False   False   False   False   False   False   False   False   False   \n..      ...     ...     ...     ...     ...     ...     ...     ...     ...   \n474   False   False   False   False   False   False   False   False   False   \n475   False   False   False   False   False   False   False   False   False   \n476   False   False   False   False   False   False   False   False   False   \n477   False   False   False    True   False   False   False   False   False   \n478   False   False   False   False   False   False   False   False   False   \n\n     feat_L  ...  atomrec_M  atomrec_N  atomrec_P  atomrec_Q  atomrec_R  \\\n0     False  ...          1          0          0          0          0   \n1     False  ...          0          0          0          0          0   \n2     False  ...          0          0          0          0          0   \n3     False  ...          0          0          0          0          0   \n4     False  ...          0          0          0          0          0   \n..      ...  ...        ...        ...        ...        ...        ...   \n474    True  ...          0          0          0          0          0   \n475   False  ...          0          0          1          0          0   \n476   False  ...          0          0          0          1          0   \n477   False  ...          0          0          0          0          0   \n478   False  ...          0          1          0          0          0   \n\n     atomrec_S  atomrec_T  atomrec_V  atomrec_W  atomrec_Y  \n0            0          0          0          0          0  \n1            0          0          0          0          0  \n2            0          0          0          0          0  \n3            1          0          0          0          0  \n4            0          0          1          0          0  \n..         ...        ...        ...        ...        ...  \n474          0          0          0          0          0  \n475          0          0          0          0          0  \n476          0          0          0          0          0  \n477          0          0          0          0          0  \n478          0          0          0          0          0  \n\n[107624 rows x 86 columns]",
      "text/html": "<div>\n<style scoped>\n    .dataframe tbody tr th:only-of-type {\n        vertical-align: middle;\n    }\n\n    .dataframe tbody tr th {\n        vertical-align: top;\n    }\n\n    .dataframe thead th {\n        text-align: right;\n    }\n</style>\n<table border=\"1\" class=\"dataframe\">\n  <thead>\n    <tr style=\"text-align: right;\">\n      <th></th>\n      <th>feat_A</th>\n      <th>feat_C</th>\n      <th>feat_D</th>\n      <th>feat_E</th>\n      <th>feat_F</th>\n      <th>feat_G</th>\n      <th>feat_H</th>\n      <th>feat_I</th>\n      <th>feat_K</th>\n      <th>feat_L</th>\n      <th>...</th>\n      <th>atomrec_M</th>\n      <th>atomrec_N</th>\n      <th>atomrec_P</th>\n      <th>atomrec_Q</th>\n      <th>atomrec_R</th>\n      <th>atomrec_S</th>\n      <th>atomrec_T</th>\n      <th>atomrec_V</th>\n      <th>atomrec_W</th>\n      <th>atomrec_Y</th>\n    </tr>\n  </thead>\n  <tbody>\n    <tr>\n      <th>0</th>\n      <td>False</td>\n      <td>False</td>\n      <td>False</td>\n      <td>False</td>\n      <td>False</td>\n      <td>False</td>\n      <td>False</td>\n      <td>False</td>\n      <td>False</td>\n      <td>False</td>\n      <td>...</td>\n      <td>1</td>\n      <td>0</td>\n      <td>0</td>\n      <td>0</td>\n      <td>0</td>\n      <td>0</td>\n      <td>0</td>\n      <td>0</td>\n      <td>0</td>\n      <td>0</td>\n    </tr>\n    <tr>\n      <th>1</th>\n      <td>True</td>\n      <td>False</td>\n      <td>False</td>\n      <td>False</td>\n      <td>False</td>\n      <td>False</td>\n      <td>False</td>\n      <td>False</td>\n      <td>False</td>\n      <td>False</td>\n      <td>...</td>\n      <td>0</td>\n      <td>0</td>\n      <td>0</td>\n      <td>0</td>\n      <td>0</td>\n      <td>0</td>\n      <td>0</td>\n      <td>0</td>\n      <td>0</td>\n      <td>0</td>\n    </tr>\n    <tr>\n      <th>2</th>\n      <td>True</td>\n      <td>False</td>\n      <td>False</td>\n      <td>False</td>\n      <td>False</td>\n      <td>False</td>\n      <td>False</td>\n      <td>False</td>\n      <td>False</td>\n      <td>False</td>\n      <td>...</td>\n      <td>0</td>\n      <td>0</td>\n      <td>0</td>\n      <td>0</td>\n      <td>0</td>\n      <td>0</td>\n      <td>0</td>\n      <td>0</td>\n      <td>0</td>\n      <td>0</td>\n    </tr>\n    <tr>\n      <th>3</th>\n      <td>False</td>\n      <td>False</td>\n      <td>False</td>\n      <td>False</td>\n      <td>False</td>\n      <td>False</td>\n      <td>False</td>\n      <td>False</td>\n      <td>False</td>\n      <td>False</td>\n      <td>...</td>\n      <td>0</td>\n      <td>0</td>\n      <td>0</td>\n      <td>0</td>\n      <td>0</td>\n      <td>1</td>\n      <td>0</td>\n      <td>0</td>\n      <td>0</td>\n      <td>0</td>\n    </tr>\n    <tr>\n      <th>4</th>\n      <td>False</td>\n      <td>False</td>\n      <td>False</td>\n      <td>False</td>\n      <td>False</td>\n      <td>False</td>\n      <td>False</td>\n      <td>False</td>\n      <td>False</td>\n      <td>False</td>\n      <td>...</td>\n      <td>0</td>\n      <td>0</td>\n      <td>0</td>\n      <td>0</td>\n      <td>0</td>\n      <td>0</td>\n      <td>0</td>\n      <td>1</td>\n      <td>0</td>\n      <td>0</td>\n    </tr>\n    <tr>\n      <th>...</th>\n      <td>...</td>\n      <td>...</td>\n      <td>...</td>\n      <td>...</td>\n      <td>...</td>\n      <td>...</td>\n      <td>...</td>\n      <td>...</td>\n      <td>...</td>\n      <td>...</td>\n      <td>...</td>\n      <td>...</td>\n      <td>...</td>\n      <td>...</td>\n      <td>...</td>\n      <td>...</td>\n      <td>...</td>\n      <td>...</td>\n      <td>...</td>\n      <td>...</td>\n      <td>...</td>\n    </tr>\n    <tr>\n      <th>474</th>\n      <td>False</td>\n      <td>False</td>\n      <td>False</td>\n      <td>False</td>\n      <td>False</td>\n      <td>False</td>\n      <td>False</td>\n      <td>False</td>\n      <td>False</td>\n      <td>True</td>\n      <td>...</td>\n      <td>0</td>\n      <td>0</td>\n      <td>0</td>\n      <td>0</td>\n      <td>0</td>\n      <td>0</td>\n      <td>0</td>\n      <td>0</td>\n      <td>0</td>\n      <td>0</td>\n    </tr>\n    <tr>\n      <th>475</th>\n      <td>False</td>\n      <td>False</td>\n      <td>False</td>\n      <td>False</td>\n      <td>False</td>\n      <td>False</td>\n      <td>False</td>\n      <td>False</td>\n      <td>False</td>\n      <td>False</td>\n      <td>...</td>\n      <td>0</td>\n      <td>0</td>\n      <td>1</td>\n      <td>0</td>\n      <td>0</td>\n      <td>0</td>\n      <td>0</td>\n      <td>0</td>\n      <td>0</td>\n      <td>0</td>\n    </tr>\n    <tr>\n      <th>476</th>\n      <td>False</td>\n      <td>False</td>\n      <td>False</td>\n      <td>False</td>\n      <td>False</td>\n      <td>False</td>\n      <td>False</td>\n      <td>False</td>\n      <td>False</td>\n      <td>False</td>\n      <td>...</td>\n      <td>0</td>\n      <td>0</td>\n      <td>0</td>\n      <td>1</td>\n      <td>0</td>\n      <td>0</td>\n      <td>0</td>\n      <td>0</td>\n      <td>0</td>\n      <td>0</td>\n    </tr>\n    <tr>\n      <th>477</th>\n      <td>False</td>\n      <td>False</td>\n      <td>False</td>\n      <td>True</td>\n      <td>False</td>\n      <td>False</td>\n      <td>False</td>\n      <td>False</td>\n      <td>False</td>\n      <td>False</td>\n      <td>...</td>\n      <td>0</td>\n      <td>0</td>\n      <td>0</td>\n      <td>0</td>\n      <td>0</td>\n      <td>0</td>\n      <td>0</td>\n      <td>0</td>\n      <td>0</td>\n      <td>0</td>\n    </tr>\n    <tr>\n      <th>478</th>\n      <td>False</td>\n      <td>False</td>\n      <td>False</td>\n      <td>False</td>\n      <td>False</td>\n      <td>False</td>\n      <td>False</td>\n      <td>False</td>\n      <td>False</td>\n      <td>False</td>\n      <td>...</td>\n      <td>0</td>\n      <td>1</td>\n      <td>0</td>\n      <td>0</td>\n      <td>0</td>\n      <td>0</td>\n      <td>0</td>\n      <td>0</td>\n      <td>0</td>\n      <td>0</td>\n    </tr>\n  </tbody>\n</table>\n<p>107624 rows × 86 columns</p>\n</div>"
     },
     "execution_count": 17,
     "metadata": {},
     "output_type": "execute_result"
    }
   ],
   "source": [
    "df_test = pd.read_csv(\"af2_dataset_testset_unlabeled.csv.gz\", index_col=0)\n",
    "df_test = pd.get_dummies(df_test,columns=[\"annotation_sequence\"], prefix='Sequence')\n",
    "df_test = pd.get_dummies(df_test,columns=[\"annotation_atomrec\"], prefix='atomrec')\n",
    "df_test.drop(columns=['entry'],inplace=True)\n",
    "df_test"
   ]
  },
  {
   "cell_type": "markdown",
   "source": [
    "Use threshold of 0.01"
   ],
   "metadata": {
    "collapsed": false
   }
  },
  {
   "cell_type": "code",
   "execution_count": 18,
   "id": "e40c7d36",
   "metadata": {
    "id": "e40c7d36"
   },
   "outputs": [],
   "source": [
    "y_test_submission = xgb.predict_proba(X_test)[:, 1] > 0.01"
   ]
  },
  {
   "cell_type": "code",
   "execution_count": 19,
   "id": "e01d0dda",
   "metadata": {
    "id": "e01d0dda"
   },
   "outputs": [],
   "source": [
    "s = pd.Series(y_test_submission).astype(bool)\n",
    "s.name = \"Predicted\"\n",
    "s.to_csv(\"submission.csv\")"
   ]
  }
 ],
 "metadata": {
  "colab": {
   "provenance": []
  },
  "kernelspec": {
   "display_name": "Python 3 (ipykernel)",
   "language": "python",
   "name": "python3"
  },
  "language_info": {
   "codemirror_mode": {
    "name": "ipython",
    "version": 3
   },
   "file_extension": ".py",
   "mimetype": "text/x-python",
   "name": "python",
   "nbconvert_exporter": "python",
   "pygments_lexer": "ipython3",
   "version": "3.10.8"
  }
 },
 "nbformat": 4,
 "nbformat_minor": 5
}
